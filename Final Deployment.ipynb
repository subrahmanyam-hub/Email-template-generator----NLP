{
 "cells": [
  {
   "cell_type": "markdown",
   "metadata": {},
   "source": [
    "# Importing Libraries"
   ]
  },
  {
   "cell_type": "code",
   "execution_count": 2,
   "metadata": {
    "ExecuteTime": {
     "end_time": "2021-09-29T07:53:22.854527Z",
     "start_time": "2021-09-29T07:53:21.302838Z"
    }
   },
   "outputs": [],
   "source": [
    "import numpy as np\n",
    "import pandas as pd \n",
    "import string\n",
    "import warnings\n",
    "warnings.filterwarnings('ignore')\n",
    "import re\n",
    "\n",
    "#from textblob import TextBlob\n",
    "\n",
    "import nltk\n",
    "#nltk.download('punkt')\n",
    "#nltk.download('wordnet')\n",
    "\n",
    "import spacy\n",
    "\n",
    "from nltk.corpus import stopwords\n",
    "\n",
    "#Stemming\n",
    "#from nltk.stem import PorterStemmer\n",
    "#stemmer = PorterStemmer()\n",
    "\n",
    "#Lemmetization\n",
    "from nltk.stem import WordNetLemmatizer\n",
    "lemmetizer = WordNetLemmatizer()\n",
    "\n",
    "from flask import Flask, redirect, url_for, request,render_template\n",
    "\n",
    "#Initializing spacy model\n",
    "nlp = spacy.load('en_core_web_sm')\n",
    "\n",
    "#Words that we do not require after tokenization in the search term and the title column as well\n",
    "unwanted_words = ['Email','Sample','Letter','Template','email','sample','letter','template','to','To']\n",
    "\n",
    "#Punctuations\n",
    "#punctuations = '''()-[]{};:'\"\\,<>./?@#$%^&*_`~'''\n",
    "\n",
    "#Stopwords\n",
    "stop_words = stopwords.words('english')"
   ]
  },
  {
   "cell_type": "markdown",
   "metadata": {},
   "source": [
    "# Importing Dataset and Data Preprocessing"
   ]
  },
  {
   "cell_type": "code",
   "execution_count": 3,
   "metadata": {
    "ExecuteTime": {
     "end_time": "2021-09-29T07:55:19.281736Z",
     "start_time": "2021-09-29T07:53:24.452576Z"
    }
   },
   "outputs": [
    {
     "data": {
      "text/html": [
       "<div>\n",
       "<style scoped>\n",
       "    .dataframe tbody tr th:only-of-type {\n",
       "        vertical-align: middle;\n",
       "    }\n",
       "\n",
       "    .dataframe tbody tr th {\n",
       "        vertical-align: top;\n",
       "    }\n",
       "\n",
       "    .dataframe thead th {\n",
       "        text-align: right;\n",
       "    }\n",
       "</style>\n",
       "<table border=\"1\" class=\"dataframe\">\n",
       "  <thead>\n",
       "    <tr style=\"text-align: right;\">\n",
       "      <th></th>\n",
       "      <th>Category</th>\n",
       "      <th>Search_column</th>\n",
       "      <th>Title</th>\n",
       "      <th>Body</th>\n",
       "    </tr>\n",
       "  </thead>\n",
       "  <tbody>\n",
       "    <tr>\n",
       "      <th>0</th>\n",
       "      <td>Acceptance Emails</td>\n",
       "      <td>[Elementary, School, Admission]</td>\n",
       "      <td>Elementary School Admission Email</td>\n",
       "      <td>To: [Email id]\\n\\nSubject: [Subject]\\n\\n[Salut...</td>\n",
       "    </tr>\n",
       "    <tr>\n",
       "      <th>1</th>\n",
       "      <td>Acceptance Emails</td>\n",
       "      <td>[Academy, Admission]</td>\n",
       "      <td>Academy Admission Email</td>\n",
       "      <td>To: [Email id]\\n\\nSubject: [Subject]\\n\\n[Salut...</td>\n",
       "    </tr>\n",
       "    <tr>\n",
       "      <th>2</th>\n",
       "      <td>Acceptance Emails</td>\n",
       "      <td>[College, Admissions, Recommendation]</td>\n",
       "      <td>College Admissions Recommendation Email</td>\n",
       "      <td>To: [Email id]\\n\\nSubject: [Subject]\\n\\n[Salut...</td>\n",
       "    </tr>\n",
       "    <tr>\n",
       "      <th>3</th>\n",
       "      <td>Acceptance Emails</td>\n",
       "      <td>[Decline, Admission]</td>\n",
       "      <td>Decline Admission Email</td>\n",
       "      <td>To: [Email id]\\n\\nSubject: [Subject]\\n\\n[Salut...</td>\n",
       "    </tr>\n",
       "    <tr>\n",
       "      <th>4</th>\n",
       "      <td>Acceptance Emails</td>\n",
       "      <td>[Harvard, Acceptance]</td>\n",
       "      <td>Harvard Acceptance Email</td>\n",
       "      <td>To: [Email id]\\n\\nSubject: [Subject]\\n\\n[Salut...</td>\n",
       "    </tr>\n",
       "  </tbody>\n",
       "</table>\n",
       "</div>"
      ],
      "text/plain": [
       "            Category                          Search_column  \\\n",
       "0  Acceptance Emails        [Elementary, School, Admission]   \n",
       "1  Acceptance Emails                   [Academy, Admission]   \n",
       "2  Acceptance Emails  [College, Admissions, Recommendation]   \n",
       "3  Acceptance Emails                   [Decline, Admission]   \n",
       "4  Acceptance Emails                  [Harvard, Acceptance]   \n",
       "\n",
       "                                     Title  \\\n",
       "0        Elementary School Admission Email   \n",
       "1                  Academy Admission Email   \n",
       "2  College Admissions Recommendation Email   \n",
       "3                  Decline Admission Email   \n",
       "4                 Harvard Acceptance Email   \n",
       "\n",
       "                                                Body  \n",
       "0  To: [Email id]\\n\\nSubject: [Subject]\\n\\n[Salut...  \n",
       "1  To: [Email id]\\n\\nSubject: [Subject]\\n\\n[Salut...  \n",
       "2  To: [Email id]\\n\\nSubject: [Subject]\\n\\n[Salut...  \n",
       "3  To: [Email id]\\n\\nSubject: [Subject]\\n\\n[Salut...  \n",
       "4  To: [Email id]\\n\\nSubject: [Subject]\\n\\n[Salut...  "
      ]
     },
     "execution_count": 3,
     "metadata": {},
     "output_type": "execute_result"
    }
   ],
   "source": [
    "#Reading the data set and preprocessing\n",
    "data = pd.read_excel('templates.xls')\n",
    "data = data.dropna()\n",
    "data = data.reset_index(drop=True)\n",
    "\n",
    "#Replacing 'Letter' with 'Email' || Replacing '-' with ' ' in the cat column\n",
    "for i in range (0,len(data)):\n",
    "    data.iloc[i,0] = data.iloc[i,0].replace('Letter','Email')\n",
    "    data.iloc[i,0] = data.iloc[i,0].replace('letter','Email')\n",
    "    data.iloc[i,1] = data.iloc[i,1].replace('Letter','Email')\n",
    "    data.iloc[i,1] = data.iloc[i,1].replace('letter','Email')\n",
    "    data.iloc[i,0] = data.iloc[i,0].replace('-',' ')\n",
    "\n",
    "#Adding Search column which will contain tokens of title and arranging the columns in order    \n",
    "data['Search_column'] = ''\n",
    "data = data[[\"Category\",\"Search_column\", \"Title\", \"Body\"]]\n",
    "\n",
    "#Removing the 'Download Related Samples...' from footer\n",
    "for i in range (0,len(data)):\n",
    "    txt = data.iloc[i,3]\n",
    "    txt0 = txt.split('\\nDownload ')[0]\n",
    "    data.iloc[i,3] = txt0\n",
    "\n",
    "#Removing address fields\n",
    "for i in range (0,len(data)):\n",
    "    list0 = data.Body[i].split('\\n')\n",
    "    list1 = []\n",
    "    for string in list0:\n",
    "        if len(string)> 50:\n",
    "            list1.append(string)\n",
    "    body = 'To: [Email id]\\n\\nSubject: [Subject]\\n\\n[Salutation]\\n\\n'\n",
    "    for j in list1:\n",
    "        body = body + j + '\\n\\n'\n",
    "    body = body + '[Closure]\\n\\n'+'[Name/Signature]\\n'+'[Designation]\\n'+'[Organization]\\n'\n",
    "    body = body.replace('Letter','Email')\n",
    "    body = body.replace('letter','email')\n",
    "    #print(body)\n",
    "    data.iloc[i,3] = body\n",
    "\n",
    "#Preprocessing the title column\n",
    "for i in range (0,len(data)):\n",
    "    tex = str(data.Title[i])\n",
    "    tex_p = ''\n",
    "    #for char in tex:\n",
    "    #    if (char not in punctuations):\n",
    "    #        tex_p = tex_p+char\n",
    "    tex_p = re.sub(r'[^\\w\\s]','',tex)\n",
    "    tex_p = tex_p.strip()\n",
    "    tex_a = nltk.word_tokenize(tex_p)\n",
    "    tex_s=[]\n",
    "    for word in tex_a:\n",
    "        if (word not in stop_words):\n",
    "            tex_s.append(word)\n",
    "    tex_l = []\n",
    "    for word in tex_s:\n",
    "        tex_l.append(lemmetizer.lemmatize(word))\n",
    "    tex_f = []\n",
    "    for word in tex_l:\n",
    "        if word not in unwanted_words:\n",
    "            tex_f.append(word)\n",
    "        else:\n",
    "            pass\n",
    "    data.iloc[i,1] = tex_f\n",
    "\n",
    "#Named Entity Recognition (Replacing named entities with their tags)\n",
    "for i in range(0,len(data)):\n",
    "    s= data.Body[i]\n",
    "    doc = nlp(s)\n",
    "    newString = s\n",
    "    for e in reversed(doc.ents): #reversed to not modify the offsets of other entities when substituting\n",
    "        start = e.start_char\n",
    "        end = start + len(e.text)\n",
    "        newString = newString[:start] + '[' + e.label_ + ']' + newString[end:]\n",
    "    data.Body[i] = newString\n",
    "    \n",
    "data.head()"
   ]
  },
  {
   "cell_type": "markdown",
   "metadata": {},
   "source": [
    "# EDA"
   ]
  },
  {
   "cell_type": "code",
   "execution_count": 4,
   "metadata": {
    "ExecuteTime": {
     "end_time": "2021-09-29T07:55:51.023577Z",
     "start_time": "2021-09-29T07:55:51.004890Z"
    }
   },
   "outputs": [
    {
     "data": {
      "text/plain": [
       "(1574, 4)"
      ]
     },
     "execution_count": 4,
     "metadata": {},
     "output_type": "execute_result"
    }
   ],
   "source": [
    "data.shape"
   ]
  },
  {
   "cell_type": "markdown",
   "metadata": {},
   "source": [
    "Dataset contains 1574 entries and 4 columns"
   ]
  },
  {
   "cell_type": "code",
   "execution_count": 5,
   "metadata": {
    "ExecuteTime": {
     "end_time": "2021-09-29T07:55:52.020635Z",
     "start_time": "2021-09-29T07:55:52.012088Z"
    }
   },
   "outputs": [
    {
     "data": {
      "text/plain": [
       "Index(['Category', 'Search_column', 'Title', 'Body'], dtype='object')"
      ]
     },
     "execution_count": 5,
     "metadata": {},
     "output_type": "execute_result"
    }
   ],
   "source": [
    "data.columns"
   ]
  },
  {
   "cell_type": "markdown",
   "metadata": {},
   "source": [
    "The dataset consists of 4 columns namely 'Category', 'Search_column', 'Title' and 'Body'.\n",
    "<br>Dataset altogether consists of 1574 Email templates."
   ]
  },
  {
   "cell_type": "code",
   "execution_count": 6,
   "metadata": {
    "ExecuteTime": {
     "end_time": "2021-09-29T07:55:52.873073Z",
     "start_time": "2021-09-29T07:55:52.850737Z"
    }
   },
   "outputs": [
    {
     "name": "stdout",
     "output_type": "stream",
     "text": [
      "<class 'pandas.core.frame.DataFrame'>\n",
      "RangeIndex: 1574 entries, 0 to 1573\n",
      "Data columns (total 4 columns):\n",
      " #   Column         Non-Null Count  Dtype \n",
      "---  ------         --------------  ----- \n",
      " 0   Category       1574 non-null   object\n",
      " 1   Search_column  1574 non-null   object\n",
      " 2   Title          1574 non-null   object\n",
      " 3   Body           1574 non-null   object\n",
      "dtypes: object(4)\n",
      "memory usage: 49.3+ KB\n"
     ]
    }
   ],
   "source": [
    "data.info()"
   ]
  },
  {
   "cell_type": "markdown",
   "metadata": {},
   "source": [
    "As we can see that there are no null values."
   ]
  },
  {
   "cell_type": "code",
   "execution_count": 7,
   "metadata": {
    "ExecuteTime": {
     "end_time": "2021-09-29T07:55:53.681745Z",
     "start_time": "2021-09-29T07:55:53.657311Z"
    }
   },
   "outputs": [
    {
     "name": "stdout",
     "output_type": "stream",
     "text": [
      "Length: 53\n",
      "\n"
     ]
    },
    {
     "data": {
      "text/plain": [
       "array(['Acceptance Emails', 'Admission Emails', 'Announcement Emails',\n",
       "       'Application Emails', 'Appreciation Emails',\n",
       "       'Authorization Emails', 'Banking Emails', 'Birthday Email',\n",
       "       'Business Emails', 'Cancellation Email', 'Certification Email',\n",
       "       'Claim Email', 'Complaint Emails', 'Condolence Emails',\n",
       "       'Confirmation Email', 'Congratulation Emails', 'Consumer Emails',\n",
       "       'Customer Emails', 'Decline Email', 'Emails', 'Employment Emails',\n",
       "       'Finance Emails', 'Formal Email', 'General Emails',\n",
       "       'Government Emails', 'Grievance Emails', 'Holiday Emails',\n",
       "       'Inquiry Email', 'Internship Email', 'Interview Email',\n",
       "       'Introduction Emails', 'Invitation Emails', 'Job Emails',\n",
       "       'Leave Emails', 'Marketing Emails', 'Order Email',\n",
       "       'Permission Email', 'Personal Emails', 'Recommendation Emails',\n",
       "       'Reference Emails', 'Request Emails', 'Resignation Emails',\n",
       "       'Retirement Emails', 'Sales & Marketing Emails', 'Sales Emails',\n",
       "       'Scholarship Emails', 'Sorry Email', 'Statement Emails',\n",
       "       'Supplier Emails', 'Termination Emails', 'Thank You Emails',\n",
       "       'Uncategorized', 'Welcome Emails'], dtype=object)"
      ]
     },
     "execution_count": 7,
     "metadata": {},
     "output_type": "execute_result"
    }
   ],
   "source": [
    "print('Length: '+str(len(data.Category.unique()))+'\\n')\n",
    "data.Category.unique()"
   ]
  },
  {
   "cell_type": "markdown",
   "metadata": {},
   "source": [
    "As we can see that there are 53 Categories as shown above.\n",
    "\n",
    "The title column shows the title of each Email\n",
    "\n",
    "The Search_Column consists of the tokens from the title column for matching the keywords.\n",
    "\n",
    "The Body column consists of templates of the email."
   ]
  },
  {
   "cell_type": "markdown",
   "metadata": {},
   "source": [
    "## Just for future reference"
   ]
  },
  {
   "cell_type": "code",
   "execution_count": 8,
   "metadata": {
    "ExecuteTime": {
     "end_time": "2021-09-29T07:55:54.960645Z",
     "start_time": "2021-09-29T07:55:54.933551Z"
    }
   },
   "outputs": [
    {
     "data": {
      "text/html": [
       "<div>\n",
       "<style scoped>\n",
       "    .dataframe tbody tr th:only-of-type {\n",
       "        vertical-align: middle;\n",
       "    }\n",
       "\n",
       "    .dataframe tbody tr th {\n",
       "        vertical-align: top;\n",
       "    }\n",
       "\n",
       "    .dataframe thead th {\n",
       "        text-align: right;\n",
       "    }\n",
       "</style>\n",
       "<table border=\"1\" class=\"dataframe\">\n",
       "  <thead>\n",
       "    <tr style=\"text-align: right;\">\n",
       "      <th></th>\n",
       "      <th>Category</th>\n",
       "      <th>N_Letters</th>\n",
       "    </tr>\n",
       "  </thead>\n",
       "  <tbody>\n",
       "    <tr>\n",
       "      <th>0</th>\n",
       "      <td>Business Emails</td>\n",
       "      <td>70</td>\n",
       "    </tr>\n",
       "    <tr>\n",
       "      <th>1</th>\n",
       "      <td>Personal Emails</td>\n",
       "      <td>70</td>\n",
       "    </tr>\n",
       "    <tr>\n",
       "      <th>2</th>\n",
       "      <td>Customer Emails</td>\n",
       "      <td>70</td>\n",
       "    </tr>\n",
       "    <tr>\n",
       "      <th>3</th>\n",
       "      <td>General Emails</td>\n",
       "      <td>64</td>\n",
       "    </tr>\n",
       "    <tr>\n",
       "      <th>4</th>\n",
       "      <td>Sales &amp; Marketing Emails</td>\n",
       "      <td>60</td>\n",
       "    </tr>\n",
       "  </tbody>\n",
       "</table>\n",
       "</div>"
      ],
      "text/plain": [
       "                   Category  N_Letters\n",
       "0           Business Emails         70\n",
       "1           Personal Emails         70\n",
       "2           Customer Emails         70\n",
       "3            General Emails         64\n",
       "4  Sales & Marketing Emails         60"
      ]
     },
     "execution_count": 8,
     "metadata": {},
     "output_type": "execute_result"
    }
   ],
   "source": [
    "df = pd.DataFrame(data.Category.value_counts())\n",
    "df = df.reset_index()\n",
    "df = df.rename(columns={'index':'Category','Category':'N_Letters'})\n",
    "df.head()"
   ]
  },
  {
   "cell_type": "markdown",
   "metadata": {},
   "source": [
    "# Deployment"
   ]
  },
  {
   "cell_type": "code",
   "execution_count": 11,
   "metadata": {
    "ExecuteTime": {
     "end_time": "2021-09-29T08:41:38.981821Z",
     "start_time": "2021-09-29T08:35:16.290024Z"
    }
   },
   "outputs": [
    {
     "name": "stdout",
     "output_type": "stream",
     "text": [
      " * Serving Flask app \"__main__\" (lazy loading)\n",
      " * Environment: production\n",
      "   WARNING: This is a development server. Do not use it in a production deployment.\n",
      "   Use a production WSGI server instead.\n",
      " * Debug mode: off\n"
     ]
    },
    {
     "name": "stderr",
     "output_type": "stream",
     "text": [
      " * Running on http://127.0.0.1:5000/ (Press CTRL+C to quit)\n",
      "127.0.0.1 - - [29/Sep/2021 14:05:19] \"\u001b[37mGET / HTTP/1.1\u001b[0m\" 200 -\n",
      "127.0.0.1 - - [29/Sep/2021 14:05:36] \"\u001b[37mPOST /category HTTP/1.1\u001b[0m\" 200 -\n",
      "127.0.0.1 - - [29/Sep/2021 14:05:42] \"\u001b[37mPOST /category/title HTTP/1.1\u001b[0m\" 200 -\n",
      "127.0.0.1 - - [29/Sep/2021 14:05:53] \"\u001b[37mPOST /search_results HTTP/1.1\u001b[0m\" 200 -\n",
      "127.0.0.1 - - [29/Sep/2021 14:06:02] \"\u001b[37mPOST /search_results/print HTTP/1.1\u001b[0m\" 200 -\n",
      "127.0.0.1 - - [29/Sep/2021 14:08:07] \"\u001b[37mPOST /search_results/print HTTP/1.1\u001b[0m\" 200 -\n",
      "127.0.0.1 - - [29/Sep/2021 14:08:24] \"\u001b[37mPOST /category HTTP/1.1\u001b[0m\" 200 -\n",
      "127.0.0.1 - - [29/Sep/2021 14:08:42] \"\u001b[37mPOST /category HTTP/1.1\u001b[0m\" 200 -\n",
      "127.0.0.1 - - [29/Sep/2021 14:08:52] \"\u001b[37mPOST /category/title HTTP/1.1\u001b[0m\" 200 -\n"
     ]
    }
   ],
   "source": [
    "app = Flask(__name__)\n",
    "\n",
    "#app.static_folder = 'static'\n",
    "\n",
    "\n",
    "@app.route('/')\n",
    "def home_page():\n",
    "    cats = df.Category.to_list()\n",
    "    return render_template('index.html',cat_list = cats)\n",
    "\n",
    "\n",
    "\n",
    "@app.route('/category',methods = ['POST','GET'])\n",
    "def category():\n",
    "    cats = df.Category.to_list()\n",
    "    if request.method == 'POST':\n",
    "        s = str(request.form['cat'])\n",
    "        b = data[data.Category == s]\n",
    "        title = b.Title.to_list()\n",
    "    return render_template('cat_title.html',title_list=title,cat_list = cats)\n",
    "\n",
    "\n",
    "\n",
    "@app.route('/category/title',methods = ['POST','GET'])\n",
    "def cat_title():\n",
    "    if request.method == 'POST':\n",
    "        s = str(request.form['title'])\n",
    "        b = data[data.Title == s]\n",
    "        b = b.reset_index(drop=True)\n",
    "        letter = 'Category: '+str(b.Category[0])+'\\nTitle: '+str(b.Title[0])+'\\n____________________________________________________________________________________________________________\\n'+str(b.Body[0])\n",
    "        letter = letter.split('\\n')\n",
    "        cats = df.Category.to_list()\n",
    "        c = data[data.Category == b.Category[0]]\n",
    "        title = c.Title.to_list()\n",
    "    return render_template('print.html',title_list = title,cat_list = cats,letter=letter)\n",
    "\n",
    "\n",
    "        \n",
    "@app.route('/search_results',methods = ['POST','GET'])\n",
    "def search():\n",
    "    if request.method == 'POST':\n",
    "        s = str(request.form['keywords'])\n",
    "        text=''\n",
    "        text = re.sub(r'[^\\w\\s]','',s)\n",
    "        text = text.strip()\n",
    "        text = text.title()\n",
    "        text_a = nltk.word_tokenize(text)\n",
    "        text_s=[]\n",
    "        for word in text_a:\n",
    "            if (word not in stop_words):\n",
    "                text_s.append(word)\n",
    "        text_l = []\n",
    "        for word in text_s:\n",
    "            if word == 'boss':\n",
    "                text_l.append(word)\n",
    "            else: \n",
    "                text_l.append(lemmetizer.lemmatize(word))\n",
    "        text_f = []\n",
    "        for word in text_l:\n",
    "            if word not in unwanted_words:\n",
    "                text_f.append(word)\n",
    "            else:\n",
    "                pass\n",
    "        #Searching for keywords in the search column\n",
    "        result_in = []\n",
    "        for word in text_f:\n",
    "            for i in range (0,len(data)):\n",
    "                for j in range (0,len(data.iloc[i,1])):\n",
    "                    if data.iloc[i,1][j] not in text_f:\n",
    "                        pass\n",
    "                    else:\n",
    "                        result_in.append(int(i))\n",
    "        result_in.sort(reverse=False)\n",
    "        x = data.iloc[result_in]\n",
    "        x['priority'] = np.NaN\n",
    "        p = x.index.value_counts()\n",
    "        x = x.reset_index()\n",
    "        p = p.reset_index()\n",
    "        p = p.rename(columns={0:'priority'},inplace=False)\n",
    "        for i in range(0,len(x)):\n",
    "            ind = x['index'][i] \n",
    "            for j in range(0,len(p)):\n",
    "                if p['index'][j] == ind:\n",
    "                    pr = p['priority'][j]\n",
    "                else:\n",
    "                    pass\n",
    "            x['priority'][i] = pr\n",
    "        x = x.sort_values(by=['priority'],ascending=False)\n",
    "        x = x.drop_duplicates(subset=['index'])\n",
    "        x = x.drop(['index','Search_column','priority'],axis=1)\n",
    "        x = x.reset_index(drop=True)\n",
    "        #letter = 'Category: '+str(x.Category[0])+'\\nTitle: '+str(x.Title[0])+'\\n____________________________________________________________________________________________________________\\n'+str(x.Body[0])\n",
    "        #letter = letter.split('\\n')\n",
    "        cats = df.Category.to_list()\n",
    "        title_list = x.Title.to_list()\n",
    "    return render_template('keywordsearch.html',cat_list = cats,title_list=title_list)\n",
    "\n",
    "\n",
    "\n",
    "@app.route('/search_results/print',methods = ['POST','GET'])\n",
    "def print_search_results():\n",
    "    if request.method == 'POST':\n",
    "        s = str(request.form['title'])\n",
    "        b = data[data.Title == s]\n",
    "        b = b.reset_index(drop=True)\n",
    "        letter = 'Category: '+str(b.Category[0])+'\\nTitle: '+str(b.Title[0])+'\\n____________________________________________________________________________________________________________\\n'+str(b.Body[0])\n",
    "        letter = letter.split('\\n')\n",
    "        cats = df.Category.to_list()\n",
    "        c = data[data.Category == b.Category[0]]\n",
    "        title = c.Title.to_list()\n",
    "    return render_template('searchresultprint.html',letter = letter,cat_list = cats,title_list=title)\n",
    "\n",
    "\n",
    "\n",
    "\n",
    "if __name__ == '__main__':\n",
    "    app.run()"
   ]
  },
  {
   "cell_type": "markdown",
   "metadata": {},
   "source": [
    "# Final Combined Deployment"
   ]
  },
  {
   "cell_type": "code",
   "execution_count": 10,
   "metadata": {
    "ExecuteTime": {
     "end_time": "2021-09-29T08:01:21.379014Z",
     "start_time": "2021-09-29T07:56:06.184396Z"
    }
   },
   "outputs": [
    {
     "name": "stdout",
     "output_type": "stream",
     "text": [
      " * Serving Flask app \"__main__\" (lazy loading)\n",
      " * Environment: production\n",
      "   WARNING: This is a development server. Do not use it in a production deployment.\n",
      "   Use a production WSGI server instead.\n",
      " * Debug mode: off\n"
     ]
    },
    {
     "name": "stderr",
     "output_type": "stream",
     "text": [
      " * Running on http://127.0.0.1:5000/ (Press CTRL+C to quit)\n"
     ]
    }
   ],
   "source": [
    "#****Importing Libraries****#\n",
    "\n",
    "import numpy as np\n",
    "import pandas as pd \n",
    "import string\n",
    "import warnings\n",
    "warnings.filterwarnings('ignore')\n",
    "import re\n",
    "\n",
    "#from textblob import TextBlob\n",
    "\n",
    "import nltk\n",
    "#nltk.download('punkt')\n",
    "#nltk.download('wordnet')\n",
    "\n",
    "import spacy\n",
    "\n",
    "from nltk.corpus import stopwords\n",
    "\n",
    "#Stemming\n",
    "#from nltk.stem import PorterStemmer\n",
    "#stemmer = PorterStemmer()\n",
    "\n",
    "#Lemmetization\n",
    "from nltk.stem import WordNetLemmatizer\n",
    "lemmetizer = WordNetLemmatizer()\n",
    "\n",
    "from flask import Flask, redirect, url_for, request,render_template\n",
    "\n",
    "#Initializing spacy model\n",
    "nlp = spacy.load('en_core_web_sm')\n",
    "\n",
    "#Words that we do not require after tokenization in the search term and the title column as well\n",
    "unwanted_words = ['Email','Sample','Letter','Template','email','sample','letter','template','to','To']\n",
    "\n",
    "#Punctuations\n",
    "#punctuations = '''()-[]{};:'\"\\,<>./?@#$%^&*_`~'''\n",
    "\n",
    "#Stopwords\n",
    "stop_words = stopwords.words('english')\n",
    "\n",
    "\n",
    "#****Importing Dataset and data Preprocessing****#\n",
    "\n",
    "#Reading the data set and preprocessing\n",
    "data = pd.read_excel('templates.xls')\n",
    "data = data.dropna()\n",
    "data = data.reset_index(drop=True)\n",
    "\n",
    "#Replacing 'Letter' with 'Email' || Replacing '-' with ' ' in the cat column\n",
    "for i in range (0,len(data)):\n",
    "    data.iloc[i,0] = data.iloc[i,0].replace('Letter','Email')\n",
    "    data.iloc[i,0] = data.iloc[i,0].replace('letter','Email')\n",
    "    data.iloc[i,1] = data.iloc[i,1].replace('Letter','Email')\n",
    "    data.iloc[i,1] = data.iloc[i,1].replace('letter','Email')\n",
    "    data.iloc[i,0] = data.iloc[i,0].replace('-',' ')\n",
    "\n",
    "#Adding Search column which will contain tokens of title and arranging the columns in order    \n",
    "data['Search_column'] = ''\n",
    "data = data[[\"Category\",\"Search_column\", \"Title\", \"Body\"]]\n",
    "\n",
    "#Removing the 'Download Related Samples...' from footer\n",
    "for i in range (0,len(data)):\n",
    "    txt = data.iloc[i,3]\n",
    "    txt0 = txt.split('\\nDownload ')[0]\n",
    "    data.iloc[i,3] = txt0\n",
    "\n",
    "#Removing address fields\n",
    "for i in range (0,len(data)):\n",
    "    list0 = data.Body[i].split('\\n')\n",
    "    list1 = []\n",
    "    for string in list0:\n",
    "        if len(string)> 50:\n",
    "            list1.append(string)\n",
    "    body = 'To: [Email id]\\n\\nSubject: [Subject]\\n\\n[Salutation]\\n\\n'\n",
    "    for j in list1:\n",
    "        body = body + j + '\\n\\n'\n",
    "    body = body + '[Closure]\\n\\n'+'[Name/Signature]\\n'+'[Designation]\\n'+'[Organization]\\n'\n",
    "    body = body.replace('Letter','Email')\n",
    "    body = body.replace('letter','email')\n",
    "    #print(body)\n",
    "    data.iloc[i,3] = body\n",
    "\n",
    "#Preprocessing the title column\n",
    "for i in range (0,len(data)):\n",
    "    tex = str(data.Title[i])\n",
    "    tex_p = ''\n",
    "    #for char in tex:\n",
    "    #    if (char not in punctuations):\n",
    "    #        tex_p = tex_p+char\n",
    "    tex_p = re.sub(r'[^\\w\\s]','',tex)\n",
    "    tex_p = tex_p.strip()\n",
    "    tex_a = nltk.word_tokenize(tex_p)\n",
    "    tex_s=[]\n",
    "    for word in tex_a:\n",
    "        if (word not in stop_words):\n",
    "            tex_s.append(word)\n",
    "    tex_l = []\n",
    "    for word in tex_s:\n",
    "        tex_l.append(lemmetizer.lemmatize(word))\n",
    "    tex_f = []\n",
    "    for word in tex_l:\n",
    "        if word not in unwanted_words:\n",
    "            tex_f.append(word)\n",
    "        else:\n",
    "            pass\n",
    "    data.iloc[i,1] = tex_f\n",
    "\n",
    "#Named Entity Recognition (Replacing named entities with their tags)\n",
    "for i in range(0,len(data)):\n",
    "    s= data.Body[i]\n",
    "    doc = nlp(s)\n",
    "    newString = s\n",
    "    for e in reversed(doc.ents): #reversed to not modify the offsets of other entities when substituting\n",
    "        start = e.start_char\n",
    "        end = start + len(e.text)\n",
    "        newString = newString[:start] + '[' + e.label_ + ']' + newString[end:]\n",
    "    data.Body[i] = newString\n",
    "    \n",
    "\n",
    "#****For future reference****#\n",
    "\n",
    "df = pd.DataFrame(data.Category.value_counts())\n",
    "df = df.reset_index()\n",
    "df = df.rename(columns={'index':'Category','Category':'N_Letters'})\n",
    "\n",
    "\n",
    "#****Deployment****#\n",
    "\n",
    "app = Flask(__name__)\n",
    "\n",
    "#app.static_folder = 'static'\n",
    "\n",
    "\n",
    "@app.route('/')\n",
    "def home_page():\n",
    "    cats = df.Category.to_list()\n",
    "    return render_template('index.html',cat_list = cats)\n",
    "\n",
    "\n",
    "\n",
    "@app.route('/category',methods = ['POST','GET'])\n",
    "def category():\n",
    "    cats = df.Category.to_list()\n",
    "    if request.method == 'POST':\n",
    "        s = str(request.form['cat'])\n",
    "        b = data[data.Category == s]\n",
    "        title = b.Title.to_list()\n",
    "    return render_template('cat_title.html',title_list=title,cat_list = cats)\n",
    "\n",
    "\n",
    "\n",
    "@app.route('/category/title',methods = ['POST','GET'])\n",
    "def cat_title():\n",
    "    if request.method == 'POST':\n",
    "        s = str(request.form['title'])\n",
    "        b = data[data.Title == s]\n",
    "        b = b.reset_index(drop=True)\n",
    "        letter = 'Category: '+str(b.Category[0])+'\\nTitle: '+str(b.Title[0])+'\\n____________________________________________________________________________________________________________\\n'+str(b.Body[0])\n",
    "        letter = letter.split('\\n')\n",
    "        cats = df.Category.to_list()\n",
    "        c = data[data.Category == b.Category[0]]\n",
    "        title = c.Title.to_list()\n",
    "    return render_template('print.html',title_list = title,cat_list = cats,letter=letter)\n",
    "\n",
    "\n",
    "        \n",
    "@app.route('/search_results',methods = ['POST','GET'])\n",
    "def search():\n",
    "    if request.method == 'POST':\n",
    "        s = str(request.form['keywords'])\n",
    "        text=''\n",
    "        text = re.sub(r'[^\\w\\s]','',s)\n",
    "        text = text.strip()\n",
    "        text = text.title()\n",
    "        text_a = nltk.word_tokenize(text)\n",
    "        text_s=[]\n",
    "        for word in text_a:\n",
    "            if (word not in stop_words):\n",
    "                text_s.append(word)\n",
    "        text_l = []\n",
    "        for word in text_s:\n",
    "            if word == 'boss':\n",
    "                text_l.append(word)\n",
    "            else: \n",
    "                text_l.append(lemmetizer.lemmatize(word))\n",
    "        text_f = []\n",
    "        for word in text_l:\n",
    "            if word not in unwanted_words:\n",
    "                text_f.append(word)\n",
    "            else:\n",
    "                pass\n",
    "        #Searching for keywords in the search column\n",
    "        result_in = []\n",
    "        for word in text_f:\n",
    "            for i in range (0,len(data)):\n",
    "                for j in range (0,len(data.iloc[i,1])):\n",
    "                    if data.iloc[i,1][j] not in text_f:\n",
    "                        pass\n",
    "                    else:\n",
    "                        result_in.append(int(i))\n",
    "        result_in.sort(reverse=False)\n",
    "        x = data.iloc[result_in]\n",
    "        x['priority'] = np.NaN\n",
    "        p = x.index.value_counts()\n",
    "        x = x.reset_index()\n",
    "        p = p.reset_index()\n",
    "        p = p.rename(columns={0:'priority'},inplace=False)\n",
    "        for i in range(0,len(x)):\n",
    "            ind = x['index'][i] \n",
    "            for j in range(0,len(p)):\n",
    "                if p['index'][j] == ind:\n",
    "                    pr = p['priority'][j]\n",
    "                else:\n",
    "                    pass\n",
    "            x['priority'][i] = pr\n",
    "        x = x.sort_values(by=['priority'],ascending=False)\n",
    "        x = x.drop_duplicates(subset=['index'])\n",
    "        x = x.drop(['index','Search_column','priority'],axis=1)\n",
    "        x = x.reset_index(drop=True)\n",
    "        #letter = 'Category: '+str(x.Category[0])+'\\nTitle: '+str(x.Title[0])+'\\n____________________________________________________________________________________________________________\\n'+str(x.Body[0])\n",
    "        #letter = letter.split('\\n')\n",
    "        cats = df.Category.to_list()\n",
    "        title_list = x.Title.to_list()\n",
    "    return render_template('keywordsearch.html',cat_list = cats,title_list=title_list)\n",
    "\n",
    "\n",
    "\n",
    "@app.route('/search_results/print',methods = ['POST','GET'])\n",
    "def print_search_results():\n",
    "    if request.method == 'POST':\n",
    "        s = str(request.form['title'])\n",
    "        b = data[data.Title == s]\n",
    "        b = b.reset_index(drop=True)\n",
    "        letter = 'Category: '+str(b.Category[0])+'\\nTitle: '+str(b.Title[0])+'\\n____________________________________________________________________________________________________________\\n'+str(b.Body[0])\n",
    "        letter = letter.split('\\n')\n",
    "        cats = df.Category.to_list()\n",
    "        c = data[data.Category == b.Category[0]]\n",
    "        title = c.Title.to_list()\n",
    "    return render_template('searchresultprint.html',letter = letter,cat_list = cats,title_list=title)\n",
    "\n",
    "\n",
    "\n",
    "\n",
    "if __name__ == '__main__':\n",
    "    app.run()"
   ]
  },
  {
   "cell_type": "code",
   "execution_count": null,
   "metadata": {},
   "outputs": [],
   "source": []
  },
  {
   "cell_type": "code",
   "execution_count": null,
   "metadata": {},
   "outputs": [],
   "source": []
  }
 ],
 "metadata": {
  "kernelspec": {
   "display_name": "Python 3",
   "language": "python",
   "name": "python3"
  },
  "language_info": {
   "codemirror_mode": {
    "name": "ipython",
    "version": 3
   },
   "file_extension": ".py",
   "mimetype": "text/x-python",
   "name": "python",
   "nbconvert_exporter": "python",
   "pygments_lexer": "ipython3",
   "version": "3.8.3"
  },
  "varInspector": {
   "cols": {
    "lenName": 16,
    "lenType": 16,
    "lenVar": 40
   },
   "kernels_config": {
    "python": {
     "delete_cmd_postfix": "",
     "delete_cmd_prefix": "del ",
     "library": "var_list.py",
     "varRefreshCmd": "print(var_dic_list())"
    },
    "r": {
     "delete_cmd_postfix": ") ",
     "delete_cmd_prefix": "rm(",
     "library": "var_list.r",
     "varRefreshCmd": "cat(var_dic_list()) "
    }
   },
   "types_to_exclude": [
    "module",
    "function",
    "builtin_function_or_method",
    "instance",
    "_Feature"
   ],
   "window_display": false
  }
 },
 "nbformat": 4,
 "nbformat_minor": 4
}
