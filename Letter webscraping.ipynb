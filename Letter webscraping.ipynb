{
 "cells": [
  {
   "cell_type": "markdown",
   "metadata": {},
   "source": [
    "# URL"
   ]
  },
  {
   "cell_type": "code",
   "execution_count": 1,
   "metadata": {
    "ExecuteTime": {
     "end_time": "2021-09-13T08:23:09.314090Z",
     "start_time": "2021-09-13T08:23:09.306067Z"
    }
   },
   "outputs": [],
   "source": [
    "letter_url = 'https://www.letters-home.com/'"
   ]
  },
  {
   "cell_type": "markdown",
   "metadata": {},
   "source": [
    "# Libraries"
   ]
  },
  {
   "cell_type": "code",
   "execution_count": 2,
   "metadata": {
    "ExecuteTime": {
     "end_time": "2021-09-13T08:23:20.899414Z",
     "start_time": "2021-09-13T08:23:11.032650Z"
    }
   },
   "outputs": [],
   "source": [
    "import pandas as pd \n",
    "import numpy as np\n",
    "\n",
    "import string \n",
    "import spacy\n",
    "\n",
    "from nltk import tokenize\n",
    "\n",
    "import csv\n",
    "\n",
    "import requests\n",
    "from bs4 import BeautifulSoup\n",
    "\n",
    "from selenium import webdriver\n",
    "from webdriver_manager.chrome import ChromeDriverManager\n",
    "\n",
    "import matplotlib.pyplot as plt\n",
    "%matplotlib inline\n",
    "\n",
    "from wordcloud import wordcloud,STOPWORDS\n",
    "\n",
    "import warnings\n",
    "warnings.filterwarnings('ignore')\n",
    "\n",
    "pd.set_option('display.max_rows',None)"
   ]
  },
  {
   "cell_type": "markdown",
   "metadata": {},
   "source": [
    "# Category List Function"
   ]
  },
  {
   "cell_type": "code",
   "execution_count": 3,
   "metadata": {
    "ExecuteTime": {
     "end_time": "2021-09-13T08:23:32.264571Z",
     "start_time": "2021-09-13T08:23:23.961234Z"
    }
   },
   "outputs": [
    {
     "name": "stderr",
     "output_type": "stream",
     "text": [
      "\n",
      "\n",
      "====== WebDriver manager ======\n",
      "Current google-chrome version is 93.0.4577\n",
      "Get LATEST driver version for 93.0.4577\n",
      "Driver [C:\\Users\\azhar\\.wdm\\drivers\\chromedriver\\win32\\93.0.4577.63\\chromedriver.exe] found in cache\n"
     ]
    }
   ],
   "source": [
    "driver = webdriver.Chrome(ChromeDriverManager().install())\n",
    "def get_cat_list(letter_url):\n",
    "    driver.get(letter_url)\n",
    "    soup = BeautifulSoup(driver.page_source,'html.parser')\n",
    "\n",
    "    category_list_html = soup.find('aside',{'class':'widget widget_categories'})\n",
    "    a_tag = category_list_html.find_all('a')\n",
    "\n",
    "    cat_list = []\n",
    "\n",
    "    for i in range (0,len(a_tag)):\n",
    "        cat_list.append(a_tag[i].text)\n",
    "    \n",
    "    for i in range (0,len(cat_list)):\n",
    "        cat_list[i] = cat_list[i].replace(' ','-')\n",
    "    driver.close()\n",
    "    return cat_list\n",
    "        \n",
    "cat_list = get_cat_list(letter_url)"
   ]
  },
  {
   "cell_type": "code",
   "execution_count": 4,
   "metadata": {
    "ExecuteTime": {
     "end_time": "2021-09-13T08:23:36.166804Z",
     "start_time": "2021-09-13T08:23:36.150874Z"
    }
   },
   "outputs": [
    {
     "name": "stdout",
     "output_type": "stream",
     "text": [
      "['Acceptance-Letters', 'Admission-Letters', 'Agreement-Letters', 'Announcement-Letters', 'Apology/Sorry-Letters', 'Appeal-Letters', 'Application-Letters', 'Appreciation-Letters', 'Authorization-Letters', 'Banking-Letters', 'Birthday-Letter', 'Break-Up-Letter', 'Business-Letters', 'Cancellation-Letter', 'Caring-Letter', 'Certification-Letter', 'Charity-Letters', 'Christmas-Letters', 'Claim-Letter', 'Collection-Letters', 'Complaint-Letters', 'Condolence-Letters', 'Confirmation-Letter', 'Congratulation-Letters', 'Consent-Letters', 'Consumer-Letters', 'Contract-Letter', 'Cover-Letters', 'Credit-Letter', 'Customer-Letters', 'Decline-Letter', 'Donation-Letters', 'Emails', 'Emotional-Letter', 'Employment-Letters', 'Farewell-Letters', 'Fax-Cover-Letters', 'Finance-Letters', 'Follow-up-Letters', 'Formal-Letter', 'Friendship-Letters', 'Fundraising-Letters', 'General-Letters', 'Good-Bye-Letters', 'Government-Letters', 'Grievance-Letters', 'Hardship-Lettrs', 'Holiday-Letters', 'Human-Letters', 'Inquiry-Letter', 'Intent', 'Internal-Communication-Letters', 'Internship-Letter', 'Interview-Letter', 'Introduction-Letters', 'Invitation-Letters', 'Job-Letters', 'Leave-Letters', 'Legal-Letters', 'Letters-of-Intent', 'Love-Letters', 'Marketing-Letters', 'Memo’s', 'Order-Letter', 'Permission-Letter', 'Personal-Letters', 'Press-Release', 'Promotion-Letters', 'Proposal-Letter', 'Recommendation-Letters', 'Reference-Letters', 'Request-Letters', 'Resignation-Letters', 'Resume-Cover-Letters', 'Resume-Samples-&-Cover-Letters', 'Retirement-Letters', 'Romantic-Letters', 'Sales-&-Marketing-Letters', 'Sales-Letters', 'Scholarship-Letters', 'Sorry-Letter', 'Statement-Letters', 'Supplier-Letters', 'Sympathy-Letters', 'Termination-Letters', 'Thank-You-Letters', 'Uncategorized', 'Wacky-Letters', 'Warning-Letter', 'Welcome-Letters']\n"
     ]
    }
   ],
   "source": [
    "print(cat_list)"
   ]
  },
  {
   "cell_type": "markdown",
   "metadata": {},
   "source": [
    "# Extracting Data"
   ]
  },
  {
   "cell_type": "code",
   "execution_count": 9,
   "metadata": {
    "ExecuteTime": {
     "end_time": "2021-09-13T11:57:58.403807Z",
     "start_time": "2021-09-13T08:36:09.465446Z"
    }
   },
   "outputs": [
    {
     "name": "stderr",
     "output_type": "stream",
     "text": [
      "\n",
      "\n",
      "====== WebDriver manager ======\n",
      "Current google-chrome version is 93.0.4577\n",
      "Get LATEST driver version for 93.0.4577\n",
      "Driver [C:\\Users\\azhar\\.wdm\\drivers\\chromedriver\\win32\\93.0.4577.63\\chromedriver.exe] found in cache\n"
     ]
    }
   ],
   "source": [
    "letter = []\n",
    "title = []\n",
    "driver = webdriver.Chrome(ChromeDriverManager().install())\n",
    "for i in range (0,len(cat_list)):\n",
    "    cat_list_item = cat_list[i]\n",
    "    for p in range (1,9999):\n",
    "        final_url = letter_url+'category/'+cat_list_item+'/page/{}/'.format(p)\n",
    "        driver.get(final_url)\n",
    "        soup = BeautifulSoup(driver.page_source,'html.parser')\n",
    "        div_tag = soup.find_all('div',{'class':'heatmapthemead-article'})\n",
    "        title0=[]\n",
    "        for t in range(0,5):\n",
    "            try:\n",
    "                t_title = div_tag[t].find_all('h2',{'class':'entry-title h2-simulate-h1'})[0].text\n",
    "                title0.append(t_title)\n",
    "                title.append(t_title)\n",
    "            except:\n",
    "                pass\n",
    "        for l in range(0,5):\n",
    "            try:\n",
    "                title0[l] = title0[l].replace(' ','-')\n",
    "                l_url = letter_url+cat_list_item+'/'+title0[l]\n",
    "                driver.get(l_url)\n",
    "                soup = BeautifulSoup(driver.page_source,'html.parser')\n",
    "                let = soup.find_all('div',{'class':'entry-content'})\n",
    "                letter.append(let[0].text)\n",
    "            except:\n",
    "                pass\n",
    "        if soup.find_all('div',{'class':'nav-previous'}) != []:\n",
    "            pass\n",
    "        else:\n",
    "            break\n",
    "driver.close()"
   ]
  },
  {
   "cell_type": "code",
   "execution_count": 47,
   "metadata": {
    "ExecuteTime": {
     "end_time": "2021-09-13T12:17:12.785901Z",
     "start_time": "2021-09-13T12:17:12.775923Z"
    }
   },
   "outputs": [],
   "source": [
    "#del title[1541]"
   ]
  },
  {
   "cell_type": "code",
   "execution_count": 44,
   "metadata": {
    "ExecuteTime": {
     "end_time": "2021-09-13T12:16:38.705580Z",
     "start_time": "2021-09-13T12:16:38.687629Z"
    }
   },
   "outputs": [
    {
     "data": {
      "text/plain": [
       "3378"
      ]
     },
     "execution_count": 44,
     "metadata": {},
     "output_type": "execute_result"
    }
   ],
   "source": [
    "len(letter)"
   ]
  },
  {
   "cell_type": "code",
   "execution_count": 45,
   "metadata": {
    "ExecuteTime": {
     "end_time": "2021-09-13T12:16:39.410880Z",
     "start_time": "2021-09-13T12:16:39.402867Z"
    }
   },
   "outputs": [
    {
     "data": {
      "text/plain": [
       "3378"
      ]
     },
     "execution_count": 45,
     "metadata": {},
     "output_type": "execute_result"
    }
   ],
   "source": [
    "len(title)"
   ]
  },
  {
   "cell_type": "code",
   "execution_count": 46,
   "metadata": {
    "ExecuteTime": {
     "end_time": "2021-09-13T12:16:41.753302Z",
     "start_time": "2021-09-13T12:16:41.537540Z"
    }
   },
   "outputs": [
    {
     "data": {
      "text/html": [
       "<div>\n",
       "<style scoped>\n",
       "    .dataframe tbody tr th:only-of-type {\n",
       "        vertical-align: middle;\n",
       "    }\n",
       "\n",
       "    .dataframe tbody tr th {\n",
       "        vertical-align: top;\n",
       "    }\n",
       "\n",
       "    .dataframe thead th {\n",
       "        text-align: right;\n",
       "    }\n",
       "</style>\n",
       "<table border=\"1\" class=\"dataframe\">\n",
       "  <thead>\n",
       "    <tr style=\"text-align: right;\">\n",
       "      <th></th>\n",
       "      <th>Title</th>\n",
       "      <th>Body</th>\n",
       "    </tr>\n",
       "  </thead>\n",
       "  <tbody>\n",
       "    <tr>\n",
       "      <th>0</th>\n",
       "      <td>Elementary School Admission Letter</td>\n",
       "      <td>From,\\nMrs Cruz,\\nE-2, Bakers Street,\\nLondon\\...</td>\n",
       "    </tr>\n",
       "    <tr>\n",
       "      <th>1</th>\n",
       "      <td>Academy Admission Letter</td>\n",
       "      <td>From,\\nMs Electra,\\n13B, Whistling Towers,\\nAr...</td>\n",
       "    </tr>\n",
       "    <tr>\n",
       "      <th>2</th>\n",
       "      <td>College Admissions Recommendation Letter</td>\n",
       "      <td>From,\\nMr Warden,\\nPrincipal,\\nSt. Louis Degre...</td>\n",
       "    </tr>\n",
       "    <tr>\n",
       "      <th>3</th>\n",
       "      <td>Decline Admission Letter</td>\n",
       "      <td>From,\\nMr Richardson,\\nPrincipal,\\nImperial Co...</td>\n",
       "    </tr>\n",
       "    <tr>\n",
       "      <th>4</th>\n",
       "      <td>Harvard Acceptance Letter</td>\n",
       "      <td>From,\\nMr Williamson,\\nSports Goods and Equipm...</td>\n",
       "    </tr>\n",
       "    <tr>\n",
       "      <th>5</th>\n",
       "      <td>Program Acceptance Letter</td>\n",
       "      <td>From,\\nMs Finnegan,\\nShow Organiser,\\nRising S...</td>\n",
       "    </tr>\n",
       "    <tr>\n",
       "      <th>6</th>\n",
       "      <td>Software Acceptance Letter</td>\n",
       "      <td>From\\nMr Robinson,\\nHead of Security Departmen...</td>\n",
       "    </tr>\n",
       "    <tr>\n",
       "      <th>7</th>\n",
       "      <td>Application Acceptance Letter</td>\n",
       "      <td>From,\\nMrs Carmen,\\nHuman Resource Officer,\\nK...</td>\n",
       "    </tr>\n",
       "    <tr>\n",
       "      <th>8</th>\n",
       "      <td>College Acceptance Letter</td>\n",
       "      <td>To:\\nMs. Kalpana Duggal\\n354, Park View Apartm...</td>\n",
       "    </tr>\n",
       "    <tr>\n",
       "      <th>9</th>\n",
       "      <td>Project Acceptance Letter</td>\n",
       "      <td>Ms. Nandana Purjab\\nPresident\\nTriple A Constr...</td>\n",
       "    </tr>\n",
       "    <tr>\n",
       "      <th>10</th>\n",
       "      <td>Sponsorship Acceptance Letter</td>\n",
       "      <td>Ms. Namita Setty\\nPresident\\nGreat Buy Company...</td>\n",
       "    </tr>\n",
       "  </tbody>\n",
       "</table>\n",
       "</div>"
      ],
      "text/plain": [
       "                                       Title  \\\n",
       "0         Elementary School Admission Letter   \n",
       "1                   Academy Admission Letter   \n",
       "2   College Admissions Recommendation Letter   \n",
       "3                   Decline Admission Letter   \n",
       "4                  Harvard Acceptance Letter   \n",
       "5                  Program Acceptance Letter   \n",
       "6                 Software Acceptance Letter   \n",
       "7              Application Acceptance Letter   \n",
       "8                  College Acceptance Letter   \n",
       "9                  Project Acceptance Letter   \n",
       "10             Sponsorship Acceptance Letter   \n",
       "\n",
       "                                                 Body  \n",
       "0   From,\\nMrs Cruz,\\nE-2, Bakers Street,\\nLondon\\...  \n",
       "1   From,\\nMs Electra,\\n13B, Whistling Towers,\\nAr...  \n",
       "2   From,\\nMr Warden,\\nPrincipal,\\nSt. Louis Degre...  \n",
       "3   From,\\nMr Richardson,\\nPrincipal,\\nImperial Co...  \n",
       "4   From,\\nMr Williamson,\\nSports Goods and Equipm...  \n",
       "5   From,\\nMs Finnegan,\\nShow Organiser,\\nRising S...  \n",
       "6   From\\nMr Robinson,\\nHead of Security Departmen...  \n",
       "7   From,\\nMrs Carmen,\\nHuman Resource Officer,\\nK...  \n",
       "8   To:\\nMs. Kalpana Duggal\\n354, Park View Apartm...  \n",
       "9   Ms. Nandana Purjab\\nPresident\\nTriple A Constr...  \n",
       "10  Ms. Namita Setty\\nPresident\\nGreat Buy Company...  "
      ]
     },
     "execution_count": 46,
     "metadata": {},
     "output_type": "execute_result"
    }
   ],
   "source": [
    "data = pd.DataFrame({'Title': title, 'Body': letter})\n",
    "filename='templates.xls'\n",
    "data.to_excel(filename,index=False)\n",
    "data.head(11)"
   ]
  },
  {
   "cell_type": "code",
   "execution_count": null,
   "metadata": {},
   "outputs": [],
   "source": [
    "#Add an exception for pages that contain less than 4 \n",
    "#probabily try: or if else\n",
    "#also try with html"
   ]
  },
  {
   "cell_type": "code",
   "execution_count": 48,
   "metadata": {
    "ExecuteTime": {
     "end_time": "2021-09-13T12:17:19.877703Z",
     "start_time": "2021-09-13T12:17:19.865753Z"
    }
   },
   "outputs": [
    {
     "name": "stdout",
     "output_type": "stream",
     "text": [
      "Goodbye Letter to Coworker\n",
      "\n",
      "\n",
      "June 8, 2012\n",
      "Name/Title Mary Roe\n",
      "Address 795 E Dragram\n",
      "City, State, Zip Code Tucson, AZ, 85705\n",
      "Dear Nathan,\n",
      "This is to tell you that I have resign from post and will be leave the company on 10th June. As a result I would like to bid you goodbye.\n",
      "I still remember when I joined I was dint knew you anything about work, but now I can tell myself expertise. It’s all because of your guidance. You have showed lot of patience while teaching. I would have not received this achievement without my coworker. I have really enjoyed working with you all. Thank you for all the support.\n",
      "I would be missing you a lot and your company. I wish you all the best for your future. My new personal contact number is 983-38393-38393.\n",
      "Yours sincerely,\n",
      "Jovan Mark\n",
      " \n",
      "Top Sample Letters terms:Thank you for Your Patience Letter\n",
      "\n",
      "Related Sample Letters:\n",
      "Emotional Goodbye Letter \n",
      "Goodbye Letter \n",
      "Goodbye Letter to a Best Friend \n",
      "Goodbye Cover Letter \n",
      "Goodbye Letter to Boss \n",
      "\n",
      "\n",
      "\n"
     ]
    }
   ],
   "source": [
    "print(title[1541])\n",
    "print('\\n')\n",
    "print(letter[1541])"
   ]
  },
  {
   "cell_type": "code",
   "execution_count": null,
   "metadata": {
    "ExecuteTime": {
     "end_time": "2021-09-13T12:03:26.054859Z",
     "start_time": "2021-09-13T12:03:26.041894Z"
    }
   },
   "outputs": [],
   "source": []
  },
  {
   "cell_type": "code",
   "execution_count": null,
   "metadata": {},
   "outputs": [],
   "source": []
  }
 ],
 "metadata": {
  "kernelspec": {
   "display_name": "Python 3",
   "language": "python",
   "name": "python3"
  },
  "language_info": {
   "codemirror_mode": {
    "name": "ipython",
    "version": 3
   },
   "file_extension": ".py",
   "mimetype": "text/x-python",
   "name": "python",
   "nbconvert_exporter": "python",
   "pygments_lexer": "ipython3",
   "version": "3.8.3"
  },
  "varInspector": {
   "cols": {
    "lenName": 16,
    "lenType": 16,
    "lenVar": 40
   },
   "kernels_config": {
    "python": {
     "delete_cmd_postfix": "",
     "delete_cmd_prefix": "del ",
     "library": "var_list.py",
     "varRefreshCmd": "print(var_dic_list())"
    },
    "r": {
     "delete_cmd_postfix": ") ",
     "delete_cmd_prefix": "rm(",
     "library": "var_list.r",
     "varRefreshCmd": "cat(var_dic_list()) "
    }
   },
   "types_to_exclude": [
    "module",
    "function",
    "builtin_function_or_method",
    "instance",
    "_Feature"
   ],
   "window_display": false
  }
 },
 "nbformat": 4,
 "nbformat_minor": 4
}
