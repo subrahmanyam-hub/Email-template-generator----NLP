{
 "cells": [
  {
   "cell_type": "code",
   "execution_count": 28,
   "metadata": {
    "ExecuteTime": {
     "end_time": "2021-09-20T11:25:35.723939Z",
     "start_time": "2021-09-20T11:25:35.713966Z"
    }
   },
   "outputs": [],
   "source": [
    "import numpy as np\n",
    "import pandas as pd \n",
    "import string\n",
    "import spacy\n",
    "import warnings\n",
    "warnings.filterwarnings('ignore')\n",
    "import re\n",
    "\n",
    "import nltk\n",
    "#nltk.download('punkt')\n",
    "#nltk.download('wordnet')\n",
    "\n",
    "from nltk.corpus import stopwords\n",
    "\n",
    "#Stemming\n",
    "from nltk.stem import PorterStemmer\n",
    "stemmer = PorterStemmer()\n",
    "\n",
    "#Lemmetization\n",
    "from nltk.stem import WordNetLemmatizer\n",
    "lemmetizer = WordNetLemmatizer()"
   ]
  },
  {
   "cell_type": "code",
   "execution_count": 29,
   "metadata": {
    "ExecuteTime": {
     "end_time": "2021-09-20T11:25:36.424282Z",
     "start_time": "2021-09-20T11:25:36.417301Z"
    }
   },
   "outputs": [],
   "source": [
    "unwanted_words = ['Email','Sample','Letter','Template','email','sample','letter','template','to','To']\n",
    "\n",
    "punctuations = '''()-[]{};:'\"\\,<>./?@#$%^&*_`~'''"
   ]
  },
  {
   "cell_type": "code",
   "execution_count": 3,
   "metadata": {
    "ExecuteTime": {
     "end_time": "2021-09-20T09:17:51.792988Z",
     "start_time": "2021-09-20T09:17:35.903442Z"
    }
   },
   "outputs": [
    {
     "name": "stdout",
     "output_type": "stream",
     "text": [
      "Search Email Templates:\n",
      "\n",
      "Sick Leave Email to Boss\n"
     ]
    }
   ],
   "source": [
    "g_text = input('Search Email Templates:\\n\\n')"
   ]
  },
  {
   "cell_type": "code",
   "execution_count": 30,
   "metadata": {
    "ExecuteTime": {
     "end_time": "2021-09-20T11:25:45.211764Z",
     "start_time": "2021-09-20T11:25:45.204783Z"
    }
   },
   "outputs": [
    {
     "data": {
      "text/plain": [
       "'Sick Leave Email to Boss'"
      ]
     },
     "execution_count": 30,
     "metadata": {},
     "output_type": "execute_result"
    }
   ],
   "source": [
    "text=''\n",
    "text = re.sub(r'[^\\w\\s]','',g_text)\n",
    "text"
   ]
  },
  {
   "cell_type": "code",
   "execution_count": 31,
   "metadata": {
    "ExecuteTime": {
     "end_time": "2021-09-20T11:25:45.742846Z",
     "start_time": "2021-09-20T11:25:45.736862Z"
    }
   },
   "outputs": [
    {
     "data": {
      "text/plain": [
       "'Sick Leave Email to Boss'"
      ]
     },
     "execution_count": 31,
     "metadata": {},
     "output_type": "execute_result"
    }
   ],
   "source": [
    "text=''\n",
    "for char in g_text:\n",
    "    if (char not in punctuations):\n",
    "        text = text+char\n",
    "text"
   ]
  },
  {
   "cell_type": "code",
   "execution_count": 32,
   "metadata": {
    "ExecuteTime": {
     "end_time": "2021-09-20T11:25:47.542986Z",
     "start_time": "2021-09-20T11:25:47.524010Z"
    }
   },
   "outputs": [
    {
     "data": {
      "text/plain": [
       "'Sick Leave Email to Boss'"
      ]
     },
     "execution_count": 32,
     "metadata": {},
     "output_type": "execute_result"
    }
   ],
   "source": [
    "text = text.strip()\n",
    "text"
   ]
  },
  {
   "cell_type": "code",
   "execution_count": 33,
   "metadata": {
    "ExecuteTime": {
     "end_time": "2021-09-20T11:25:48.289962Z",
     "start_time": "2021-09-20T11:25:48.271011Z"
    }
   },
   "outputs": [
    {
     "data": {
      "text/plain": [
       "['Sick', 'Leave', 'Email', 'to', 'Boss']"
      ]
     },
     "execution_count": 33,
     "metadata": {},
     "output_type": "execute_result"
    }
   ],
   "source": [
    "text_a = nltk.word_tokenize(text)\n",
    "text_a"
   ]
  },
  {
   "cell_type": "code",
   "execution_count": 34,
   "metadata": {
    "ExecuteTime": {
     "end_time": "2021-09-20T11:25:48.788908Z",
     "start_time": "2021-09-20T11:25:48.765606Z"
    }
   },
   "outputs": [],
   "source": [
    "stop_words = stopwords.words('english')"
   ]
  },
  {
   "cell_type": "code",
   "execution_count": 35,
   "metadata": {
    "ExecuteTime": {
     "end_time": "2021-09-20T11:25:50.439772Z",
     "start_time": "2021-09-20T11:25:50.430797Z"
    }
   },
   "outputs": [
    {
     "data": {
      "text/plain": [
       "['Sick', 'Leave', 'Email', 'Boss']"
      ]
     },
     "execution_count": 35,
     "metadata": {},
     "output_type": "execute_result"
    }
   ],
   "source": [
    "text_s=[]\n",
    "for word in text_a:\n",
    "    if (word not in stop_words):\n",
    "        text_s.append(word)\n",
    "        \n",
    "text_s"
   ]
  },
  {
   "cell_type": "code",
   "execution_count": 36,
   "metadata": {
    "ExecuteTime": {
     "end_time": "2021-09-20T11:25:51.618733Z",
     "start_time": "2021-09-20T11:25:51.600778Z"
    }
   },
   "outputs": [
    {
     "data": {
      "text/plain": [
       "['Sick', 'Leave', 'Email', 'Boss']"
      ]
     },
     "execution_count": 36,
     "metadata": {},
     "output_type": "execute_result"
    }
   ],
   "source": [
    "text_l = []\n",
    "for word in text_s:\n",
    "#    print(lemmetizer.lemmatize(word))\n",
    "    text_l.append(lemmetizer.lemmatize(word))\n",
    "text_l"
   ]
  },
  {
   "cell_type": "code",
   "execution_count": 37,
   "metadata": {
    "ExecuteTime": {
     "end_time": "2021-09-20T11:25:53.429145Z",
     "start_time": "2021-09-20T11:25:53.415149Z"
    }
   },
   "outputs": [
    {
     "data": {
      "text/plain": [
       "['Sick', 'Leave', 'Boss']"
      ]
     },
     "execution_count": 37,
     "metadata": {},
     "output_type": "execute_result"
    }
   ],
   "source": [
    "text_f = []\n",
    "for word in text_l:\n",
    "    if word not in unwanted_words:\n",
    "        text_f.append(word)\n",
    "    else:\n",
    "        pass\n",
    "text_f"
   ]
  },
  {
   "cell_type": "code",
   "execution_count": 42,
   "metadata": {
    "ExecuteTime": {
     "end_time": "2021-09-20T11:27:46.131703Z",
     "start_time": "2021-09-20T11:27:44.977789Z"
    }
   },
   "outputs": [
    {
     "data": {
      "text/html": [
       "<div>\n",
       "<style scoped>\n",
       "    .dataframe tbody tr th:only-of-type {\n",
       "        vertical-align: middle;\n",
       "    }\n",
       "\n",
       "    .dataframe tbody tr th {\n",
       "        vertical-align: top;\n",
       "    }\n",
       "\n",
       "    .dataframe thead th {\n",
       "        text-align: right;\n",
       "    }\n",
       "</style>\n",
       "<table border=\"1\" class=\"dataframe\">\n",
       "  <thead>\n",
       "    <tr style=\"text-align: right;\">\n",
       "      <th></th>\n",
       "      <th>Category</th>\n",
       "      <th>Search_column</th>\n",
       "      <th>Title</th>\n",
       "      <th>Body</th>\n",
       "    </tr>\n",
       "  </thead>\n",
       "  <tbody>\n",
       "    <tr>\n",
       "      <th>0</th>\n",
       "      <td>Acceptance Emails</td>\n",
       "      <td></td>\n",
       "      <td>Elementary School Admission Email</td>\n",
       "      <td>From,\\nMrs Cruz,\\nE-2, Bakers Street,\\nLondon\\...</td>\n",
       "    </tr>\n",
       "    <tr>\n",
       "      <th>1</th>\n",
       "      <td>Acceptance Emails</td>\n",
       "      <td></td>\n",
       "      <td>Academy Admission Email</td>\n",
       "      <td>From,\\nMs Electra,\\n13B, Whistling Towers,\\nAr...</td>\n",
       "    </tr>\n",
       "    <tr>\n",
       "      <th>2</th>\n",
       "      <td>Acceptance Emails</td>\n",
       "      <td></td>\n",
       "      <td>College Admissions Recommendation Email</td>\n",
       "      <td>From,\\nMr Warden,\\nPrincipal,\\nSt. Louis Degre...</td>\n",
       "    </tr>\n",
       "    <tr>\n",
       "      <th>3</th>\n",
       "      <td>Acceptance Emails</td>\n",
       "      <td></td>\n",
       "      <td>Decline Admission Email</td>\n",
       "      <td>From,\\nMr Richardson,\\nPrincipal,\\nImperial Co...</td>\n",
       "    </tr>\n",
       "    <tr>\n",
       "      <th>4</th>\n",
       "      <td>Acceptance Emails</td>\n",
       "      <td></td>\n",
       "      <td>Harvard Acceptance Email</td>\n",
       "      <td>From,\\nMr Williamson,\\nSports Goods and Equipm...</td>\n",
       "    </tr>\n",
       "  </tbody>\n",
       "</table>\n",
       "</div>"
      ],
      "text/plain": [
       "            Category Search_column                                    Title  \\\n",
       "0  Acceptance Emails                      Elementary School Admission Email   \n",
       "1  Acceptance Emails                                Academy Admission Email   \n",
       "2  Acceptance Emails                College Admissions Recommendation Email   \n",
       "3  Acceptance Emails                                Decline Admission Email   \n",
       "4  Acceptance Emails                               Harvard Acceptance Email   \n",
       "\n",
       "                                                Body  \n",
       "0  From,\\nMrs Cruz,\\nE-2, Bakers Street,\\nLondon\\...  \n",
       "1  From,\\nMs Electra,\\n13B, Whistling Towers,\\nAr...  \n",
       "2  From,\\nMr Warden,\\nPrincipal,\\nSt. Louis Degre...  \n",
       "3  From,\\nMr Richardson,\\nPrincipal,\\nImperial Co...  \n",
       "4  From,\\nMr Williamson,\\nSports Goods and Equipm...  "
      ]
     },
     "execution_count": 42,
     "metadata": {},
     "output_type": "execute_result"
    }
   ],
   "source": [
    "data = pd.read_excel('templates.xls')\n",
    "data = data.dropna()\n",
    "data = data.reset_index(drop=True)\n",
    "for i in range (0,len(data)):\n",
    "    data.iloc[i,0] = data.iloc[i,0].replace('Letter','Email')\n",
    "    data.iloc[i,0] = data.iloc[i,0].replace('letter','Email')\n",
    "    data.iloc[i,1] = data.iloc[i,1].replace('Letter','Email')\n",
    "    data.iloc[i,1] = data.iloc[i,1].replace('letter','Email')\n",
    "    data.iloc[i,0] = data.iloc[i,0].replace('-',' ')\n",
    "data['Search_column'] = ''\n",
    "data = data[[\"Category\",\"Search_column\", \"Title\", \"Body\"]]\n",
    "data.head()"
   ]
  },
  {
   "cell_type": "code",
   "execution_count": 44,
   "metadata": {
    "ExecuteTime": {
     "end_time": "2021-09-20T11:28:07.229280Z",
     "start_time": "2021-09-20T11:28:07.224293Z"
    }
   },
   "outputs": [
    {
     "name": "stdout",
     "output_type": "stream",
     "text": [
      "From,\n",
      "Mrs Cruz,\n",
      "E-2, Bakers Street,\n",
      "London\n",
      "To,\n",
      "Ms Jane,\n",
      "Super Kids Elementary School,\n",
      "London\n",
      "Dear Ms Jane,\n",
      "I, Mrs Cruz, am writing this letter as an application for the admission of my daughter, Tiara, in your elementary school. Tiara has completed 2 years of age in the last month and I wish that she gets started with her education life. The city is abuzz with the excellent elementary teaching which your school provides and hence, I am applying for the admission of my daughter; so that she gets the right kind of start to her educating life.\n",
      "I would like to take this opportunity to make you aware of the fact that Tiara is a bright child and she apprehends meanings of several things swiftly. She has a creative side as well. And I am hopeful that your school would help me to explore her creative talent. I am expecting a favourable and quick response from your side. Submitting my child’s talent and future in safe and responsible hands,\n",
      "Yours sincerely,\n",
      "Mrs Cruz\n",
      "Download Elementary School Admission Letter In Word Format\n",
      "\n",
      "\n",
      "Related Sample Letters:\n",
      "School Admission Letter \n",
      "School Admission Cover Letter \n",
      "Graduate School Admission Letter \n",
      "Sample Law School Acceptance Letter \n",
      "Sample Law School Acceptance Letter \n",
      "\n",
      "\n",
      "\n"
     ]
    }
   ],
   "source": [
    "print(data.iloc[0,3])"
   ]
  },
  {
   "cell_type": "code",
   "execution_count": 45,
   "metadata": {
    "ExecuteTime": {
     "end_time": "2021-09-20T11:28:17.808364Z",
     "start_time": "2021-09-20T11:28:17.566593Z"
    }
   },
   "outputs": [],
   "source": [
    "#Removing Download Samples from Body\n",
    "for i in range (0,len(data)):\n",
    "    txt = data.iloc[i,3]\n",
    "    txt0 = txt.split('\\nDownload ')[0]\n",
    "    data.iloc[i,3] = txt0"
   ]
  },
  {
   "cell_type": "code",
   "execution_count": 46,
   "metadata": {
    "ExecuteTime": {
     "end_time": "2021-09-20T11:28:18.716025Z",
     "start_time": "2021-09-20T11:28:18.711074Z"
    }
   },
   "outputs": [
    {
     "name": "stdout",
     "output_type": "stream",
     "text": [
      "From,\n",
      "Mrs Cruz,\n",
      "E-2, Bakers Street,\n",
      "London\n",
      "To,\n",
      "Ms Jane,\n",
      "Super Kids Elementary School,\n",
      "London\n",
      "Dear Ms Jane,\n",
      "I, Mrs Cruz, am writing this letter as an application for the admission of my daughter, Tiara, in your elementary school. Tiara has completed 2 years of age in the last month and I wish that she gets started with her education life. The city is abuzz with the excellent elementary teaching which your school provides and hence, I am applying for the admission of my daughter; so that she gets the right kind of start to her educating life.\n",
      "I would like to take this opportunity to make you aware of the fact that Tiara is a bright child and she apprehends meanings of several things swiftly. She has a creative side as well. And I am hopeful that your school would help me to explore her creative talent. I am expecting a favourable and quick response from your side. Submitting my child’s talent and future in safe and responsible hands,\n",
      "Yours sincerely,\n",
      "Mrs Cruz\n"
     ]
    }
   ],
   "source": [
    "print(data.iloc[0,3])"
   ]
  },
  {
   "cell_type": "code",
   "execution_count": 47,
   "metadata": {
    "ExecuteTime": {
     "end_time": "2021-09-20T11:28:36.665503Z",
     "start_time": "2021-09-20T11:28:36.130889Z"
    }
   },
   "outputs": [
    {
     "data": {
      "text/html": [
       "<div>\n",
       "<style scoped>\n",
       "    .dataframe tbody tr th:only-of-type {\n",
       "        vertical-align: middle;\n",
       "    }\n",
       "\n",
       "    .dataframe tbody tr th {\n",
       "        vertical-align: top;\n",
       "    }\n",
       "\n",
       "    .dataframe thead th {\n",
       "        text-align: right;\n",
       "    }\n",
       "</style>\n",
       "<table border=\"1\" class=\"dataframe\">\n",
       "  <thead>\n",
       "    <tr style=\"text-align: right;\">\n",
       "      <th></th>\n",
       "      <th>Category</th>\n",
       "      <th>Search_column</th>\n",
       "      <th>Title</th>\n",
       "      <th>Body</th>\n",
       "    </tr>\n",
       "  </thead>\n",
       "  <tbody>\n",
       "    <tr>\n",
       "      <th>0</th>\n",
       "      <td>Acceptance Emails</td>\n",
       "      <td>[Elementary, School, Admission]</td>\n",
       "      <td>Elementary School Admission Email</td>\n",
       "      <td>From,\\nMrs Cruz,\\nE-2, Bakers Street,\\nLondon\\...</td>\n",
       "    </tr>\n",
       "    <tr>\n",
       "      <th>1</th>\n",
       "      <td>Acceptance Emails</td>\n",
       "      <td>[Academy, Admission]</td>\n",
       "      <td>Academy Admission Email</td>\n",
       "      <td>From,\\nMs Electra,\\n13B, Whistling Towers,\\nAr...</td>\n",
       "    </tr>\n",
       "    <tr>\n",
       "      <th>2</th>\n",
       "      <td>Acceptance Emails</td>\n",
       "      <td>[College, Admissions, Recommendation]</td>\n",
       "      <td>College Admissions Recommendation Email</td>\n",
       "      <td>From,\\nMr Warden,\\nPrincipal,\\nSt. Louis Degre...</td>\n",
       "    </tr>\n",
       "    <tr>\n",
       "      <th>3</th>\n",
       "      <td>Acceptance Emails</td>\n",
       "      <td>[Decline, Admission]</td>\n",
       "      <td>Decline Admission Email</td>\n",
       "      <td>From,\\nMr Richardson,\\nPrincipal,\\nImperial Co...</td>\n",
       "    </tr>\n",
       "    <tr>\n",
       "      <th>4</th>\n",
       "      <td>Acceptance Emails</td>\n",
       "      <td>[Harvard, Acceptance]</td>\n",
       "      <td>Harvard Acceptance Email</td>\n",
       "      <td>From,\\nMr Williamson,\\nSports Goods and Equipm...</td>\n",
       "    </tr>\n",
       "  </tbody>\n",
       "</table>\n",
       "</div>"
      ],
      "text/plain": [
       "            Category                          Search_column  \\\n",
       "0  Acceptance Emails        [Elementary, School, Admission]   \n",
       "1  Acceptance Emails                   [Academy, Admission]   \n",
       "2  Acceptance Emails  [College, Admissions, Recommendation]   \n",
       "3  Acceptance Emails                   [Decline, Admission]   \n",
       "4  Acceptance Emails                  [Harvard, Acceptance]   \n",
       "\n",
       "                                     Title  \\\n",
       "0        Elementary School Admission Email   \n",
       "1                  Academy Admission Email   \n",
       "2  College Admissions Recommendation Email   \n",
       "3                  Decline Admission Email   \n",
       "4                 Harvard Acceptance Email   \n",
       "\n",
       "                                                Body  \n",
       "0  From,\\nMrs Cruz,\\nE-2, Bakers Street,\\nLondon\\...  \n",
       "1  From,\\nMs Electra,\\n13B, Whistling Towers,\\nAr...  \n",
       "2  From,\\nMr Warden,\\nPrincipal,\\nSt. Louis Degre...  \n",
       "3  From,\\nMr Richardson,\\nPrincipal,\\nImperial Co...  \n",
       "4  From,\\nMr Williamson,\\nSports Goods and Equipm...  "
      ]
     },
     "execution_count": 47,
     "metadata": {},
     "output_type": "execute_result"
    }
   ],
   "source": [
    "#preprocessing the title column\n",
    "for i in range (0,len(data)):\n",
    "    tex = str(data.Title[i])\n",
    "    tex_p = ''\n",
    "    for char in tex:\n",
    "        if (char not in punctuations):\n",
    "            tex_p = tex_p+char\n",
    "    #tex_p = re.sub(r'[^\\w\\s]','',tex)\n",
    "    tex_p = tex_p.strip()\n",
    "    tex_a = nltk.word_tokenize(tex_p)\n",
    "    tex_s=[]\n",
    "    for word in tex_a:\n",
    "        if (word not in stop_words):\n",
    "            tex_s.append(word)\n",
    "    tex_l = []\n",
    "    for word in tex_s:\n",
    "        tex_l.append(lemmetizer.lemmatize(word))\n",
    "    tex_f = []\n",
    "    for word in tex_l:\n",
    "        if word not in unwanted_words:\n",
    "            tex_f.append(word)\n",
    "        else:\n",
    "            pass\n",
    "    data.iloc[i,1] = tex_f\n",
    "data.head()"
   ]
  },
  {
   "cell_type": "code",
   "execution_count": 48,
   "metadata": {
    "ExecuteTime": {
     "end_time": "2021-09-20T11:29:03.099368Z",
     "start_time": "2021-09-20T11:29:02.970717Z"
    },
    "scrolled": true
   },
   "outputs": [
    {
     "data": {
      "text/plain": [
       "[129,\n",
       " 129,\n",
       " 129,\n",
       " 162,\n",
       " 162,\n",
       " 162,\n",
       " 257,\n",
       " 257,\n",
       " 257,\n",
       " 431,\n",
       " 431,\n",
       " 431,\n",
       " 463,\n",
       " 463,\n",
       " 463,\n",
       " 978,\n",
       " 978,\n",
       " 978,\n",
       " 979,\n",
       " 979,\n",
       " 979,\n",
       " 980,\n",
       " 980,\n",
       " 980,\n",
       " 981,\n",
       " 981,\n",
       " 981,\n",
       " 982,\n",
       " 982,\n",
       " 982,\n",
       " 983,\n",
       " 983,\n",
       " 983,\n",
       " 984,\n",
       " 984,\n",
       " 984,\n",
       " 985,\n",
       " 985,\n",
       " 985,\n",
       " 986,\n",
       " 986,\n",
       " 986,\n",
       " 987,\n",
       " 987,\n",
       " 987,\n",
       " 987,\n",
       " 987,\n",
       " 987,\n",
       " 989,\n",
       " 989,\n",
       " 989,\n",
       " 990,\n",
       " 990,\n",
       " 990,\n",
       " 991,\n",
       " 991,\n",
       " 991,\n",
       " 995,\n",
       " 995,\n",
       " 995,\n",
       " 997,\n",
       " 997,\n",
       " 997,\n",
       " 998,\n",
       " 998,\n",
       " 998,\n",
       " 999,\n",
       " 999,\n",
       " 999,\n",
       " 1000,\n",
       " 1000,\n",
       " 1000,\n",
       " 1001,\n",
       " 1001,\n",
       " 1001,\n",
       " 1003,\n",
       " 1003,\n",
       " 1003,\n",
       " 1004,\n",
       " 1004,\n",
       " 1004,\n",
       " 1203,\n",
       " 1203,\n",
       " 1203,\n",
       " 1225,\n",
       " 1225,\n",
       " 1225,\n",
       " 1265,\n",
       " 1265,\n",
       " 1265,\n",
       " 1486,\n",
       " 1486,\n",
       " 1486,\n",
       " 1493,\n",
       " 1493,\n",
       " 1493]"
      ]
     },
     "execution_count": 48,
     "metadata": {},
     "output_type": "execute_result"
    }
   ],
   "source": [
    "#Searching for keywords in the search column\n",
    "result_in = []\n",
    "for word in text_f:\n",
    "    for i in range (0,len(data)):\n",
    "        for j in range (0,len(data.iloc[i,1])):\n",
    "            if data.iloc[i,1][j] not in text_f:\n",
    "                pass\n",
    "            else:\n",
    "                result_in.append(int(i))\n",
    "result_in.sort(reverse=False)\n",
    "result_in"
   ]
  },
  {
   "cell_type": "code",
   "execution_count": 49,
   "metadata": {
    "ExecuteTime": {
     "end_time": "2021-09-20T11:29:07.287302Z",
     "start_time": "2021-09-20T11:29:07.270348Z"
    }
   },
   "outputs": [
    {
     "data": {
      "text/html": [
       "<div>\n",
       "<style scoped>\n",
       "    .dataframe tbody tr th:only-of-type {\n",
       "        vertical-align: middle;\n",
       "    }\n",
       "\n",
       "    .dataframe tbody tr th {\n",
       "        vertical-align: top;\n",
       "    }\n",
       "\n",
       "    .dataframe thead th {\n",
       "        text-align: right;\n",
       "    }\n",
       "</style>\n",
       "<table border=\"1\" class=\"dataframe\">\n",
       "  <thead>\n",
       "    <tr style=\"text-align: right;\">\n",
       "      <th></th>\n",
       "      <th>Category</th>\n",
       "      <th>Search_column</th>\n",
       "      <th>Title</th>\n",
       "      <th>Body</th>\n",
       "      <th>priority</th>\n",
       "    </tr>\n",
       "  </thead>\n",
       "  <tbody>\n",
       "    <tr>\n",
       "      <th>129</th>\n",
       "      <td>Application Emails</td>\n",
       "      <td>[Marriage, Leave, Application]</td>\n",
       "      <td>Marriage Leave Application</td>\n",
       "      <td>To\\nMrs. Lisa Hall,\\nManager,\\nImedia Technolo...</td>\n",
       "      <td>NaN</td>\n",
       "    </tr>\n",
       "    <tr>\n",
       "      <th>129</th>\n",
       "      <td>Application Emails</td>\n",
       "      <td>[Marriage, Leave, Application]</td>\n",
       "      <td>Marriage Leave Application</td>\n",
       "      <td>To\\nMrs. Lisa Hall,\\nManager,\\nImedia Technolo...</td>\n",
       "      <td>NaN</td>\n",
       "    </tr>\n",
       "    <tr>\n",
       "      <th>129</th>\n",
       "      <td>Application Emails</td>\n",
       "      <td>[Marriage, Leave, Application]</td>\n",
       "      <td>Marriage Leave Application</td>\n",
       "      <td>To\\nMrs. Lisa Hall,\\nManager,\\nImedia Technolo...</td>\n",
       "      <td>NaN</td>\n",
       "    </tr>\n",
       "    <tr>\n",
       "      <th>162</th>\n",
       "      <td>Appreciation Emails</td>\n",
       "      <td>[Appreciation, Boss]</td>\n",
       "      <td>Appreciation Email to Boss</td>\n",
       "      <td>Mr. A. Sekhar\\nChief-of-Accounts\\nRose Waters ...</td>\n",
       "      <td>NaN</td>\n",
       "    </tr>\n",
       "    <tr>\n",
       "      <th>162</th>\n",
       "      <td>Appreciation Emails</td>\n",
       "      <td>[Appreciation, Boss]</td>\n",
       "      <td>Appreciation Email to Boss</td>\n",
       "      <td>Mr. A. Sekhar\\nChief-of-Accounts\\nRose Waters ...</td>\n",
       "      <td>NaN</td>\n",
       "    </tr>\n",
       "  </tbody>\n",
       "</table>\n",
       "</div>"
      ],
      "text/plain": [
       "                Category                   Search_column  \\\n",
       "129   Application Emails  [Marriage, Leave, Application]   \n",
       "129   Application Emails  [Marriage, Leave, Application]   \n",
       "129   Application Emails  [Marriage, Leave, Application]   \n",
       "162  Appreciation Emails            [Appreciation, Boss]   \n",
       "162  Appreciation Emails            [Appreciation, Boss]   \n",
       "\n",
       "                          Title  \\\n",
       "129  Marriage Leave Application   \n",
       "129  Marriage Leave Application   \n",
       "129  Marriage Leave Application   \n",
       "162  Appreciation Email to Boss   \n",
       "162  Appreciation Email to Boss   \n",
       "\n",
       "                                                  Body  priority  \n",
       "129  To\\nMrs. Lisa Hall,\\nManager,\\nImedia Technolo...       NaN  \n",
       "129  To\\nMrs. Lisa Hall,\\nManager,\\nImedia Technolo...       NaN  \n",
       "129  To\\nMrs. Lisa Hall,\\nManager,\\nImedia Technolo...       NaN  \n",
       "162  Mr. A. Sekhar\\nChief-of-Accounts\\nRose Waters ...       NaN  \n",
       "162  Mr. A. Sekhar\\nChief-of-Accounts\\nRose Waters ...       NaN  "
      ]
     },
     "execution_count": 49,
     "metadata": {},
     "output_type": "execute_result"
    }
   ],
   "source": [
    "x = data.iloc[result_in]\n",
    "x['priority'] = np.NaN\n",
    "x.head()"
   ]
  },
  {
   "cell_type": "code",
   "execution_count": 50,
   "metadata": {
    "ExecuteTime": {
     "end_time": "2021-09-20T11:29:12.039905Z",
     "start_time": "2021-09-20T11:29:12.033953Z"
    },
    "scrolled": true
   },
   "outputs": [
    {
     "data": {
      "text/plain": [
       "987     6\n",
       "1493    3\n",
       "984     3\n",
       "162     3\n",
       "257     3\n",
       "431     3\n",
       "1203    3\n",
       "1225    3\n",
       "1486    3\n",
       "463     3\n",
       "978     3\n",
       "979     3\n",
       "980     3\n",
       "981     3\n",
       "982     3\n",
       "983     3\n",
       "985     3\n",
       "1265    3\n",
       "986     3\n",
       "989     3\n",
       "990     3\n",
       "991     3\n",
       "995     3\n",
       "997     3\n",
       "998     3\n",
       "999     3\n",
       "1000    3\n",
       "1001    3\n",
       "1003    3\n",
       "1004    3\n",
       "129     3\n",
       "dtype: int64"
      ]
     },
     "execution_count": 50,
     "metadata": {},
     "output_type": "execute_result"
    }
   ],
   "source": [
    "p = x.index.value_counts()\n",
    "p"
   ]
  },
  {
   "cell_type": "code",
   "execution_count": 51,
   "metadata": {
    "ExecuteTime": {
     "end_time": "2021-09-20T11:29:20.317307Z",
     "start_time": "2021-09-20T11:29:20.308327Z"
    }
   },
   "outputs": [],
   "source": [
    "x = x.reset_index()\n",
    "p = p.reset_index()\n",
    "p = p.rename(columns={0:'priority'},inplace=False)"
   ]
  },
  {
   "cell_type": "code",
   "execution_count": 54,
   "metadata": {
    "ExecuteTime": {
     "end_time": "2021-09-20T11:29:32.584576Z",
     "start_time": "2021-09-20T11:29:32.570617Z"
    }
   },
   "outputs": [
    {
     "data": {
      "text/html": [
       "<div>\n",
       "<style scoped>\n",
       "    .dataframe tbody tr th:only-of-type {\n",
       "        vertical-align: middle;\n",
       "    }\n",
       "\n",
       "    .dataframe tbody tr th {\n",
       "        vertical-align: top;\n",
       "    }\n",
       "\n",
       "    .dataframe thead th {\n",
       "        text-align: right;\n",
       "    }\n",
       "</style>\n",
       "<table border=\"1\" class=\"dataframe\">\n",
       "  <thead>\n",
       "    <tr style=\"text-align: right;\">\n",
       "      <th></th>\n",
       "      <th>index</th>\n",
       "      <th>Category</th>\n",
       "      <th>Search_column</th>\n",
       "      <th>Title</th>\n",
       "      <th>Body</th>\n",
       "      <th>priority</th>\n",
       "    </tr>\n",
       "  </thead>\n",
       "  <tbody>\n",
       "    <tr>\n",
       "      <th>0</th>\n",
       "      <td>129</td>\n",
       "      <td>Application Emails</td>\n",
       "      <td>[Marriage, Leave, Application]</td>\n",
       "      <td>Marriage Leave Application</td>\n",
       "      <td>To\\nMrs. Lisa Hall,\\nManager,\\nImedia Technolo...</td>\n",
       "      <td>NaN</td>\n",
       "    </tr>\n",
       "    <tr>\n",
       "      <th>1</th>\n",
       "      <td>129</td>\n",
       "      <td>Application Emails</td>\n",
       "      <td>[Marriage, Leave, Application]</td>\n",
       "      <td>Marriage Leave Application</td>\n",
       "      <td>To\\nMrs. Lisa Hall,\\nManager,\\nImedia Technolo...</td>\n",
       "      <td>NaN</td>\n",
       "    </tr>\n",
       "    <tr>\n",
       "      <th>2</th>\n",
       "      <td>129</td>\n",
       "      <td>Application Emails</td>\n",
       "      <td>[Marriage, Leave, Application]</td>\n",
       "      <td>Marriage Leave Application</td>\n",
       "      <td>To\\nMrs. Lisa Hall,\\nManager,\\nImedia Technolo...</td>\n",
       "      <td>NaN</td>\n",
       "    </tr>\n",
       "    <tr>\n",
       "      <th>3</th>\n",
       "      <td>162</td>\n",
       "      <td>Appreciation Emails</td>\n",
       "      <td>[Appreciation, Boss]</td>\n",
       "      <td>Appreciation Email to Boss</td>\n",
       "      <td>Mr. A. Sekhar\\nChief-of-Accounts\\nRose Waters ...</td>\n",
       "      <td>NaN</td>\n",
       "    </tr>\n",
       "    <tr>\n",
       "      <th>4</th>\n",
       "      <td>162</td>\n",
       "      <td>Appreciation Emails</td>\n",
       "      <td>[Appreciation, Boss]</td>\n",
       "      <td>Appreciation Email to Boss</td>\n",
       "      <td>Mr. A. Sekhar\\nChief-of-Accounts\\nRose Waters ...</td>\n",
       "      <td>NaN</td>\n",
       "    </tr>\n",
       "  </tbody>\n",
       "</table>\n",
       "</div>"
      ],
      "text/plain": [
       "   index             Category                   Search_column  \\\n",
       "0    129   Application Emails  [Marriage, Leave, Application]   \n",
       "1    129   Application Emails  [Marriage, Leave, Application]   \n",
       "2    129   Application Emails  [Marriage, Leave, Application]   \n",
       "3    162  Appreciation Emails            [Appreciation, Boss]   \n",
       "4    162  Appreciation Emails            [Appreciation, Boss]   \n",
       "\n",
       "                        Title  \\\n",
       "0  Marriage Leave Application   \n",
       "1  Marriage Leave Application   \n",
       "2  Marriage Leave Application   \n",
       "3  Appreciation Email to Boss   \n",
       "4  Appreciation Email to Boss   \n",
       "\n",
       "                                                Body  priority  \n",
       "0  To\\nMrs. Lisa Hall,\\nManager,\\nImedia Technolo...       NaN  \n",
       "1  To\\nMrs. Lisa Hall,\\nManager,\\nImedia Technolo...       NaN  \n",
       "2  To\\nMrs. Lisa Hall,\\nManager,\\nImedia Technolo...       NaN  \n",
       "3  Mr. A. Sekhar\\nChief-of-Accounts\\nRose Waters ...       NaN  \n",
       "4  Mr. A. Sekhar\\nChief-of-Accounts\\nRose Waters ...       NaN  "
      ]
     },
     "execution_count": 54,
     "metadata": {},
     "output_type": "execute_result"
    }
   ],
   "source": [
    "x.head()"
   ]
  },
  {
   "cell_type": "code",
   "execution_count": 55,
   "metadata": {
    "ExecuteTime": {
     "end_time": "2021-09-20T11:29:42.542838Z",
     "start_time": "2021-09-20T11:29:42.526867Z"
    }
   },
   "outputs": [
    {
     "data": {
      "text/html": [
       "<div>\n",
       "<style scoped>\n",
       "    .dataframe tbody tr th:only-of-type {\n",
       "        vertical-align: middle;\n",
       "    }\n",
       "\n",
       "    .dataframe tbody tr th {\n",
       "        vertical-align: top;\n",
       "    }\n",
       "\n",
       "    .dataframe thead th {\n",
       "        text-align: right;\n",
       "    }\n",
       "</style>\n",
       "<table border=\"1\" class=\"dataframe\">\n",
       "  <thead>\n",
       "    <tr style=\"text-align: right;\">\n",
       "      <th></th>\n",
       "      <th>index</th>\n",
       "      <th>priority</th>\n",
       "    </tr>\n",
       "  </thead>\n",
       "  <tbody>\n",
       "    <tr>\n",
       "      <th>0</th>\n",
       "      <td>987</td>\n",
       "      <td>6</td>\n",
       "    </tr>\n",
       "    <tr>\n",
       "      <th>1</th>\n",
       "      <td>1493</td>\n",
       "      <td>3</td>\n",
       "    </tr>\n",
       "    <tr>\n",
       "      <th>2</th>\n",
       "      <td>984</td>\n",
       "      <td>3</td>\n",
       "    </tr>\n",
       "    <tr>\n",
       "      <th>3</th>\n",
       "      <td>162</td>\n",
       "      <td>3</td>\n",
       "    </tr>\n",
       "    <tr>\n",
       "      <th>4</th>\n",
       "      <td>257</td>\n",
       "      <td>3</td>\n",
       "    </tr>\n",
       "  </tbody>\n",
       "</table>\n",
       "</div>"
      ],
      "text/plain": [
       "   index  priority\n",
       "0    987         6\n",
       "1   1493         3\n",
       "2    984         3\n",
       "3    162         3\n",
       "4    257         3"
      ]
     },
     "execution_count": 55,
     "metadata": {},
     "output_type": "execute_result"
    }
   ],
   "source": [
    "p.head()"
   ]
  },
  {
   "cell_type": "code",
   "execution_count": 56,
   "metadata": {
    "ExecuteTime": {
     "end_time": "2021-09-20T11:29:52.349969Z",
     "start_time": "2021-09-20T11:29:52.286437Z"
    }
   },
   "outputs": [
    {
     "data": {
      "text/html": [
       "<div>\n",
       "<style scoped>\n",
       "    .dataframe tbody tr th:only-of-type {\n",
       "        vertical-align: middle;\n",
       "    }\n",
       "\n",
       "    .dataframe tbody tr th {\n",
       "        vertical-align: top;\n",
       "    }\n",
       "\n",
       "    .dataframe thead th {\n",
       "        text-align: right;\n",
       "    }\n",
       "</style>\n",
       "<table border=\"1\" class=\"dataframe\">\n",
       "  <thead>\n",
       "    <tr style=\"text-align: right;\">\n",
       "      <th></th>\n",
       "      <th>index</th>\n",
       "      <th>Category</th>\n",
       "      <th>Search_column</th>\n",
       "      <th>Title</th>\n",
       "      <th>Body</th>\n",
       "      <th>priority</th>\n",
       "    </tr>\n",
       "  </thead>\n",
       "  <tbody>\n",
       "    <tr>\n",
       "      <th>0</th>\n",
       "      <td>129</td>\n",
       "      <td>Application Emails</td>\n",
       "      <td>[Marriage, Leave, Application]</td>\n",
       "      <td>Marriage Leave Application</td>\n",
       "      <td>To\\nMrs. Lisa Hall,\\nManager,\\nImedia Technolo...</td>\n",
       "      <td>3.0</td>\n",
       "    </tr>\n",
       "    <tr>\n",
       "      <th>1</th>\n",
       "      <td>129</td>\n",
       "      <td>Application Emails</td>\n",
       "      <td>[Marriage, Leave, Application]</td>\n",
       "      <td>Marriage Leave Application</td>\n",
       "      <td>To\\nMrs. Lisa Hall,\\nManager,\\nImedia Technolo...</td>\n",
       "      <td>3.0</td>\n",
       "    </tr>\n",
       "    <tr>\n",
       "      <th>2</th>\n",
       "      <td>129</td>\n",
       "      <td>Application Emails</td>\n",
       "      <td>[Marriage, Leave, Application]</td>\n",
       "      <td>Marriage Leave Application</td>\n",
       "      <td>To\\nMrs. Lisa Hall,\\nManager,\\nImedia Technolo...</td>\n",
       "      <td>3.0</td>\n",
       "    </tr>\n",
       "    <tr>\n",
       "      <th>3</th>\n",
       "      <td>162</td>\n",
       "      <td>Appreciation Emails</td>\n",
       "      <td>[Appreciation, Boss]</td>\n",
       "      <td>Appreciation Email to Boss</td>\n",
       "      <td>Mr. A. Sekhar\\nChief-of-Accounts\\nRose Waters ...</td>\n",
       "      <td>3.0</td>\n",
       "    </tr>\n",
       "    <tr>\n",
       "      <th>4</th>\n",
       "      <td>162</td>\n",
       "      <td>Appreciation Emails</td>\n",
       "      <td>[Appreciation, Boss]</td>\n",
       "      <td>Appreciation Email to Boss</td>\n",
       "      <td>Mr. A. Sekhar\\nChief-of-Accounts\\nRose Waters ...</td>\n",
       "      <td>3.0</td>\n",
       "    </tr>\n",
       "  </tbody>\n",
       "</table>\n",
       "</div>"
      ],
      "text/plain": [
       "   index             Category                   Search_column  \\\n",
       "0    129   Application Emails  [Marriage, Leave, Application]   \n",
       "1    129   Application Emails  [Marriage, Leave, Application]   \n",
       "2    129   Application Emails  [Marriage, Leave, Application]   \n",
       "3    162  Appreciation Emails            [Appreciation, Boss]   \n",
       "4    162  Appreciation Emails            [Appreciation, Boss]   \n",
       "\n",
       "                        Title  \\\n",
       "0  Marriage Leave Application   \n",
       "1  Marriage Leave Application   \n",
       "2  Marriage Leave Application   \n",
       "3  Appreciation Email to Boss   \n",
       "4  Appreciation Email to Boss   \n",
       "\n",
       "                                                Body  priority  \n",
       "0  To\\nMrs. Lisa Hall,\\nManager,\\nImedia Technolo...       3.0  \n",
       "1  To\\nMrs. Lisa Hall,\\nManager,\\nImedia Technolo...       3.0  \n",
       "2  To\\nMrs. Lisa Hall,\\nManager,\\nImedia Technolo...       3.0  \n",
       "3  Mr. A. Sekhar\\nChief-of-Accounts\\nRose Waters ...       3.0  \n",
       "4  Mr. A. Sekhar\\nChief-of-Accounts\\nRose Waters ...       3.0  "
      ]
     },
     "execution_count": 56,
     "metadata": {},
     "output_type": "execute_result"
    }
   ],
   "source": [
    "for i in range(0,len(x)):\n",
    "    ind = x['index'][i] \n",
    "    for j in range(0,len(p)):\n",
    "        if p['index'][j] == ind:\n",
    "            pr = p['priority'][j]\n",
    "        else:\n",
    "            pass\n",
    "    x['priority'][i] = pr\n",
    "x.head()"
   ]
  },
  {
   "cell_type": "code",
   "execution_count": 57,
   "metadata": {
    "ExecuteTime": {
     "end_time": "2021-09-20T11:30:00.559654Z",
     "start_time": "2021-09-20T11:30:00.538708Z"
    }
   },
   "outputs": [
    {
     "data": {
      "text/html": [
       "<div>\n",
       "<style scoped>\n",
       "    .dataframe tbody tr th:only-of-type {\n",
       "        vertical-align: middle;\n",
       "    }\n",
       "\n",
       "    .dataframe tbody tr th {\n",
       "        vertical-align: top;\n",
       "    }\n",
       "\n",
       "    .dataframe thead th {\n",
       "        text-align: right;\n",
       "    }\n",
       "</style>\n",
       "<table border=\"1\" class=\"dataframe\">\n",
       "  <thead>\n",
       "    <tr style=\"text-align: right;\">\n",
       "      <th></th>\n",
       "      <th>Category</th>\n",
       "      <th>Title</th>\n",
       "      <th>Body</th>\n",
       "    </tr>\n",
       "  </thead>\n",
       "  <tbody>\n",
       "    <tr>\n",
       "      <th>0</th>\n",
       "      <td>Leave Emails</td>\n",
       "      <td>Leave Email To Boss</td>\n",
       "      <td>5th August 2010,\\nMr. James,\\nAMN Company Inc,...</td>\n",
       "    </tr>\n",
       "    <tr>\n",
       "      <th>1</th>\n",
       "      <td>Application Emails</td>\n",
       "      <td>Marriage Leave Application</td>\n",
       "      <td>To\\nMrs. Lisa Hall,\\nManager,\\nImedia Technolo...</td>\n",
       "    </tr>\n",
       "    <tr>\n",
       "      <th>2</th>\n",
       "      <td>Leave Emails</td>\n",
       "      <td>Maternity Leave Email</td>\n",
       "      <td>To,\\nMichael Houston,\\nHR Manager,\\nGothic Ent...</td>\n",
       "    </tr>\n",
       "    <tr>\n",
       "      <th>3</th>\n",
       "      <td>Leave Emails</td>\n",
       "      <td>Marriage Leave Application</td>\n",
       "      <td>To\\nMrs. Lisa Hall,\\nManager,\\nImedia Technolo...</td>\n",
       "    </tr>\n",
       "    <tr>\n",
       "      <th>4</th>\n",
       "      <td>Leave Emails</td>\n",
       "      <td>Sample Leave Email</td>\n",
       "      <td>To:\\nRebecca White,\\n49 Richmond Street,\\nLond...</td>\n",
       "    </tr>\n",
       "  </tbody>\n",
       "</table>\n",
       "</div>"
      ],
      "text/plain": [
       "             Category                       Title  \\\n",
       "0        Leave Emails         Leave Email To Boss   \n",
       "1  Application Emails  Marriage Leave Application   \n",
       "2        Leave Emails       Maternity Leave Email   \n",
       "3        Leave Emails  Marriage Leave Application   \n",
       "4        Leave Emails          Sample Leave Email   \n",
       "\n",
       "                                                Body  \n",
       "0  5th August 2010,\\nMr. James,\\nAMN Company Inc,...  \n",
       "1  To\\nMrs. Lisa Hall,\\nManager,\\nImedia Technolo...  \n",
       "2  To,\\nMichael Houston,\\nHR Manager,\\nGothic Ent...  \n",
       "3  To\\nMrs. Lisa Hall,\\nManager,\\nImedia Technolo...  \n",
       "4  To:\\nRebecca White,\\n49 Richmond Street,\\nLond...  "
      ]
     },
     "execution_count": 57,
     "metadata": {},
     "output_type": "execute_result"
    }
   ],
   "source": [
    "x = x.sort_values(by=['priority'],ascending=False)\n",
    "x = x.drop_duplicates(subset=['index'])\n",
    "x = x.drop(['index','Search_column','priority'],axis=1)\n",
    "x = x.reset_index(drop=True)\n",
    "x.head()"
   ]
  },
  {
   "cell_type": "code",
   "execution_count": 58,
   "metadata": {
    "ExecuteTime": {
     "end_time": "2021-09-20T11:30:12.034369Z",
     "start_time": "2021-09-20T11:30:12.015387Z"
    }
   },
   "outputs": [
    {
     "name": "stdout",
     "output_type": "stream",
     "text": [
      "5th August 2010,\n",
      "Mr. James,\n",
      "AMN Company Inc,\n",
      "Srinagar,\n",
      "Hyderabad.\n",
      "Dear Boss,\n",
      "As I have discussed with you in the past that I am having an issue with my family. My mother is ill and I will need to go home and take care of her. Therefore I am formally asking for a leave of absence, starting on Aug 5th.\n",
      "I am hoping to be back at work on Aug 13th .If there is any delay of any sort, I will let you know. If there is any way I can do any work remotely during that time, please let me know as I don’t want to neglect  my duties and still wish to help the company as much as I can. My  family and I are all hoping for my mother to have a speed and full  recovery, and we all greatly appreciate your support during this  difficult time.\n",
      " \n",
      "Yours Sincerely,\n",
      " \n",
      "David Banes.\n"
     ]
    }
   ],
   "source": [
    "print(x.Body[0])"
   ]
  },
  {
   "cell_type": "code",
   "execution_count": 60,
   "metadata": {
    "ExecuteTime": {
     "end_time": "2021-09-20T11:30:19.339010Z",
     "start_time": "2021-09-20T11:30:19.333025Z"
    }
   },
   "outputs": [
    {
     "data": {
      "text/plain": [
       "'5th August 2010,\\nMr. James,\\nAMN Company Inc,\\nSrinagar,\\nHyderabad.\\nDear Boss,\\nAs I have discussed with you in the past that I am having an issue with my family. My mother is ill and I will need to go home and take care of her. Therefore I am formally asking for a leave of absence, starting on Aug 5th.\\nI am hoping to be back at work on Aug 13th .If there is any delay of any sort, I will let you know. If there is any way I can do any work remotely during that time, please let me know as I don’t want to neglect  my duties and still wish to help the company as much as I can. My  family and I are all hoping for my mother to have a speed and full  recovery, and we all greatly appreciate your support during this  difficult time.\\n\\xa0\\nYours Sincerely,\\n\\xa0\\nDavid Banes.'"
      ]
     },
     "execution_count": 60,
     "metadata": {},
     "output_type": "execute_result"
    }
   ],
   "source": [
    "x.Body[0]"
   ]
  },
  {
   "cell_type": "code",
   "execution_count": null,
   "metadata": {},
   "outputs": [],
   "source": []
  }
 ],
 "metadata": {
  "kernelspec": {
   "display_name": "Python 3",
   "language": "python",
   "name": "python3"
  },
  "language_info": {
   "codemirror_mode": {
    "name": "ipython",
    "version": 3
   },
   "file_extension": ".py",
   "mimetype": "text/x-python",
   "name": "python",
   "nbconvert_exporter": "python",
   "pygments_lexer": "ipython3",
   "version": "3.8.3"
  },
  "varInspector": {
   "cols": {
    "lenName": 16,
    "lenType": 16,
    "lenVar": 40
   },
   "kernels_config": {
    "python": {
     "delete_cmd_postfix": "",
     "delete_cmd_prefix": "del ",
     "library": "var_list.py",
     "varRefreshCmd": "print(var_dic_list())"
    },
    "r": {
     "delete_cmd_postfix": ") ",
     "delete_cmd_prefix": "rm(",
     "library": "var_list.r",
     "varRefreshCmd": "cat(var_dic_list()) "
    }
   },
   "types_to_exclude": [
    "module",
    "function",
    "builtin_function_or_method",
    "instance",
    "_Feature"
   ],
   "window_display": false
  }
 },
 "nbformat": 4,
 "nbformat_minor": 4
}
